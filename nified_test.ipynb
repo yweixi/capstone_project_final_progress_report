{
 "cells": [
  {
   "cell_type": "code",
   "execution_count": 1,
   "metadata": {
    "scrolled": true
   },
   "outputs": [],
   "source": [
    "import os\n",
    "import shap\n",
    "import smogn\n",
    "import imblearn\n",
    "import numpy as np\n",
    "import pandas as pd\n",
    "from math import sqrt\n",
    "import xgboost as xgb\n",
    "import matplotlib.pyplot as plt\n",
    "from sklearn.svm import SVR, SVC\n",
    "from sklearn.decomposition import PCA\n",
    "from imblearn.pipeline import Pipeline\n",
    "from sklearn.ensemble import IsolationForest\n",
    "from sklearn.linear_model import SGDRegressor\n",
    "from imblearn.over_sampling import SMOTE, BorderlineSMOTE\n",
    "from sklearn.preprocessing import StandardScaler, PolynomialFeatures\n",
    "from sklearn.ensemble import GradientBoostingRegressor, GradientBoostingClassifier\n",
    "from sklearn.metrics import f1_score, classification_report, mean_squared_error, mean_absolute_error\n",
    "from sklearn.model_selection import cross_val_score, GridSearchCV, KFold, RandomizedSearchCV, train_test_split\n",
    "from sklearn.feature_selection import f_regression, f_classif, RFE, VarianceThreshold, chi2, SelectKBest, SelectFromModel"
   ]
  },
  {
   "cell_type": "markdown",
   "metadata": {},
   "source": [
    "## **Data preparation**"
   ]
  },
  {
   "cell_type": "code",
   "execution_count": 2,
   "metadata": {},
   "outputs": [],
   "source": [
    "# import data and remove unwanted columns\n",
    "data = pd.read_excel('augmented sample.xlsx').drop(['index',\n",
    "                                                    'Formation_energy'],\n",
    "                                                    axis=1)\n",
    "data = data.set_index(['Material Composition'])"
   ]
  },
  {
   "cell_type": "code",
   "execution_count": 3,
   "metadata": {},
   "outputs": [],
   "source": [
    "# split the dataset into X and y(Energy Above Hull)\n",
    "X = data.drop(['EnergyAboveHull'], axis=1)\n",
    "y = data['EnergyAboveHull']"
   ]
  },
  {
   "cell_type": "code",
   "execution_count": 4,
   "metadata": {},
   "outputs": [
    {
     "name": "stdout",
     "output_type": "stream",
     "text": [
      "Number of samples 2138 \n",
      "Number of features: 962\n"
     ]
    }
   ],
   "source": [
    "# preview the shape of the dataframe\n",
    "sample_size = X.shape[0]\n",
    "feature_size = X.shape[1]\n",
    "print(\"Number of samples\", sample_size,\n",
    "      \"\\nNumber of features:\", feature_size)"
   ]
  },
  {
   "cell_type": "code",
   "execution_count": 5,
   "metadata": {},
   "outputs": [],
   "source": [
    "# preprocess the y for classification\n",
    "y_clf = np.zeros_like(y)\n",
    "\n",
    "# samples with EnergyAboveHull larger than 40 will be marked as unstable\n",
    "# unstable = 0, stable = 1\n",
    "y_clf = [1*(EAH<=40) for EAH in y]"
   ]
  },
  {
   "cell_type": "markdown",
   "metadata": {},
   "source": [
    "## **Regression**"
   ]
  },
  {
   "cell_type": "markdown",
   "metadata": {},
   "source": [
    "**best parameters for XGB regressor**\n",
    "\n",
    "{'kbest__k': 250, 'model__colsample_bytree': 0.6, 'model__max_depth': 5, 'model__n_estimators': 150, 'pca__n_components': 25}"
   ]
  },
  {
   "cell_type": "code",
   "execution_count": 6,
   "metadata": {},
   "outputs": [],
   "source": [
    "xgb_regressor = xgb.XGBRegressor(colsample_bytree=0.6, \n",
    "                                 max_depth=5, \n",
    "                                 n_estimators=150)"
   ]
  },
  {
   "cell_type": "code",
   "execution_count": 7,
   "metadata": {},
   "outputs": [],
   "source": [
    "# best pipeline construction\n",
    "xgb_reg_pipeline = Pipeline([\n",
    "    ('variance threshold', VarianceThreshold()),\n",
    "    ('kbest', SelectKBest(f_regression, k=250)),\n",
    "    ('standard_scaler', StandardScaler()), \n",
    "    ('pca', PCA(n_components=25)), \n",
    "    ('model', xgb_regressor)\n",
    "])"
   ]
  },
  {
   "cell_type": "markdown",
   "metadata": {},
   "source": [
    "**best parameters for SVM regressor**\n",
    "\n",
    "{'svr__C': 2260}"
   ]
  },
  {
   "cell_type": "code",
   "execution_count": 8,
   "metadata": {},
   "outputs": [],
   "source": [
    "svm_regressor = SVR(C=2260)"
   ]
  },
  {
   "cell_type": "code",
   "execution_count": 9,
   "metadata": {},
   "outputs": [],
   "source": [
    "# best pipeline construction\n",
    "svm_reg_pipeline = Pipeline([\n",
    "    ('variance threshold', VarianceThreshold()),\n",
    "    ('kbest', SelectKBest(f_regression, k=250)),\n",
    "    ('standard_scaler', StandardScaler()), \n",
    "    ('pca', PCA(n_components=25)), \n",
    "    ('model', svm_regressor)\n",
    "])"
   ]
  },
  {
   "cell_type": "markdown",
   "metadata": {},
   "source": [
    "**best parameters for GBDT regressor**\n",
    "\n",
    "{'gradientboostingregressor__alpha': 0.01}"
   ]
  },
  {
   "cell_type": "code",
   "execution_count": 10,
   "metadata": {},
   "outputs": [],
   "source": [
    "gbdt_regressor = GradientBoostingRegressor(alpha=0.01)"
   ]
  },
  {
   "cell_type": "code",
   "execution_count": 11,
   "metadata": {},
   "outputs": [],
   "source": [
    "# best pipeline construction\n",
    "gbdt_reg_pipeline = Pipeline([\n",
    "    ('variance threshold', VarianceThreshold()),\n",
    "    ('kbest', SelectKBest(f_regression, k=250)),\n",
    "    ('standard_scaler', StandardScaler()), \n",
    "    ('pca', PCA(n_components=25)), \n",
    "    ('model', gbdt_regressor)\n",
    "])"
   ]
  },
  {
   "cell_type": "markdown",
   "metadata": {},
   "source": [
    "**10-fold verification**"
   ]
  },
  {
   "cell_type": "code",
   "execution_count": 12,
   "metadata": {},
   "outputs": [
    {
     "name": "stdout",
     "output_type": "stream",
     "text": [
      "[09:38:59] WARNING: src/objective/regression_obj.cu:152: reg:linear is now deprecated in favor of reg:squarederror.\n",
      "[09:39:06] WARNING: src/objective/regression_obj.cu:152: reg:linear is now deprecated in favor of reg:squarederror.\n",
      "[09:39:12] WARNING: src/objective/regression_obj.cu:152: reg:linear is now deprecated in favor of reg:squarederror.\n",
      "[09:39:18] WARNING: src/objective/regression_obj.cu:152: reg:linear is now deprecated in favor of reg:squarederror.\n",
      "[09:39:23] WARNING: src/objective/regression_obj.cu:152: reg:linear is now deprecated in favor of reg:squarederror.\n",
      "[09:39:28] WARNING: src/objective/regression_obj.cu:152: reg:linear is now deprecated in favor of reg:squarederror.\n",
      "[09:39:34] WARNING: src/objective/regression_obj.cu:152: reg:linear is now deprecated in favor of reg:squarederror.\n",
      "[09:39:40] WARNING: src/objective/regression_obj.cu:152: reg:linear is now deprecated in favor of reg:squarederror.\n",
      "[09:39:45] WARNING: src/objective/regression_obj.cu:152: reg:linear is now deprecated in favor of reg:squarederror.\n",
      "[09:39:50] WARNING: src/objective/regression_obj.cu:152: reg:linear is now deprecated in favor of reg:squarederror.\n"
     ]
    }
   ],
   "source": [
    "fold = 10\n",
    "\n",
    "xgb_reg_avg_mae = []\n",
    "xgb_reg_avg_rmse = []\n",
    "\n",
    "svm_reg_avg_mae = []\n",
    "svm_reg_avg_rmse = []\n",
    "\n",
    "gbdt_reg_avg_mae = []\n",
    "gbdt_reg_avg_rmse = []\n",
    "\n",
    "for i in range(fold):\n",
    "    X_trainval, X_test, y_trainval, y_test = train_test_split(X, y, test_size=(1/fold))\n",
    "    \n",
    "    xgb_reg_pipeline.fit(X_trainval, y_trainval)\n",
    "    svm_reg_pipeline.fit(X_trainval, y_trainval)\n",
    "    gbdt_reg_pipeline.fit(X_trainval, y_trainval)\n",
    "    \n",
    "    # for xgb reg\n",
    "    y_pred = xgb_reg_pipeline.predict(X_test)\n",
    "    y_true = y_test\n",
    "    \n",
    "    xgb_reg_avg_mae.append(mean_absolute_error(y_true, y_pred))\n",
    "    xgb_reg_avg_rmse.append(sqrt(mean_squared_error(y_true, y_pred)))\n",
    "    \n",
    "    # for svm reg\n",
    "    y_pred = svm_reg_pipeline.predict(X_test)\n",
    "    y_true = y_test\n",
    "    \n",
    "    svm_reg_avg_mae.append(mean_absolute_error(y_true, y_pred))\n",
    "    svm_reg_avg_rmse.append(sqrt(mean_squared_error(y_true, y_pred)))\n",
    "    \n",
    "    # for gbdt reg\n",
    "    y_pred = gbdt_reg_pipeline.predict(X_test)\n",
    "    y_true = y_test\n",
    "    \n",
    "    gbdt_reg_avg_mae.append(mean_absolute_error(y_true, y_pred))\n",
    "    gbdt_reg_avg_rmse.append(sqrt(mean_squared_error(y_true, y_pred)))"
   ]
  },
  {
   "cell_type": "markdown",
   "metadata": {},
   "source": [
    "**xgb regression results**"
   ]
  },
  {
   "cell_type": "code",
   "execution_count": 13,
   "metadata": {},
   "outputs": [
    {
     "name": "stdout",
     "output_type": "stream",
     "text": [
      "average mae of xgb reg 27.377 ± 6.226\n",
      "average rmse of xgb reg 48.451 ± 23.966\n"
     ]
    }
   ],
   "source": [
    "print('average mae of xgb reg', \n",
    "      '{:.3f}'.format(np.mean(xgb_reg_avg_mae)), \n",
    "      '±', \n",
    "      '{:.3f}'.format(2*np.std(xgb_reg_avg_mae)))\n",
    "print('average rmse of xgb reg', \n",
    "      '{:.3f}'.format(np.mean(xgb_reg_avg_rmse)), \n",
    "      '±', \n",
    "      '{:.3f}'.format(2*np.std(xgb_reg_avg_rmse)))"
   ]
  },
  {
   "cell_type": "markdown",
   "metadata": {},
   "source": [
    "**svm regression results**"
   ]
  },
  {
   "cell_type": "code",
   "execution_count": 14,
   "metadata": {},
   "outputs": [
    {
     "name": "stdout",
     "output_type": "stream",
     "text": [
      "average mae of svm reg 18.940 ± 5.122\n",
      "average rmse of svm reg 44.319 ± 28.163\n"
     ]
    }
   ],
   "source": [
    "print('average mae of svm reg', \n",
    "      '{:.3f}'.format(np.mean(svm_reg_avg_mae)), \n",
    "      '±', \n",
    "      '{:.3f}'.format(2*np.std(svm_reg_avg_mae)))\n",
    "print('average rmse of svm reg', \n",
    "      '{:.3f}'.format(np.mean(svm_reg_avg_rmse)), \n",
    "      '±', \n",
    "      '{:.3f}'.format(2*np.std(svm_reg_avg_rmse)))"
   ]
  },
  {
   "cell_type": "markdown",
   "metadata": {},
   "source": [
    "**gbdt regression results**"
   ]
  },
  {
   "cell_type": "code",
   "execution_count": 15,
   "metadata": {},
   "outputs": [
    {
     "name": "stdout",
     "output_type": "stream",
     "text": [
      "average mae of gbdt reg 32.443 ± 6.260\n",
      "average rmse of gbdt reg 53.768 ± 23.394\n"
     ]
    }
   ],
   "source": [
    "print('average mae of gbdt reg', \n",
    "      '{:.3f}'.format(np.mean(gbdt_reg_avg_mae)), \n",
    "      '±', \n",
    "      '{:.3f}'.format(2*np.std(gbdt_reg_avg_mae)))\n",
    "print('average rmse of gbdt reg', \n",
    "      '{:.3f}'.format(np.mean(gbdt_reg_avg_rmse)), \n",
    "      '±', \n",
    "      '{:.3f}'.format(2*np.std(gbdt_reg_avg_rmse)))"
   ]
  },
  {
   "cell_type": "markdown",
   "metadata": {},
   "source": [
    "## **Classification**"
   ]
  },
  {
   "cell_type": "markdown",
   "metadata": {},
   "source": [
    "**best parameters for XGB classifier**\n",
    "\n",
    "{'kbest__k': 450, 'model__colsample_bytree': 0.6, 'model__max_depth': 5, 'model__n_estimators': 650, 'pca__n_components': 50}\n",
    "\n",
    "{'sampling__k_neighbors': 1, 'sampling__m_neighbors': 1}"
   ]
  },
  {
   "cell_type": "code",
   "execution_count": 16,
   "metadata": {},
   "outputs": [],
   "source": [
    "xgb_classifier = xgb.XGBClassifier(max_depth=5, \n",
    "                                   n_estimators=650, \n",
    "                                   colsample_bytree=0.6)"
   ]
  },
  {
   "cell_type": "code",
   "execution_count": 17,
   "metadata": {},
   "outputs": [],
   "source": [
    "# best pipeline construction\n",
    "xgb_clf_pipeline = Pipeline([\n",
    "    ('sampling', BorderlineSMOTE(k_neighbors=1, \n",
    "                                 m_neighbors=1, \n",
    "                                 sampling_strategy='minority')),\n",
    "    ('variance threshold', VarianceThreshold()),\n",
    "    ('kbest', SelectKBest(f_classif, k=450)),\n",
    "    ('standard_scaler', StandardScaler()), \n",
    "    ('pca', PCA(n_components=50)), \n",
    "    ('model', xgb_classifier)\n",
    "])"
   ]
  },
  {
   "cell_type": "markdown",
   "metadata": {},
   "source": [
    "**best parameters for SVM classifier**\n",
    "\n",
    "{'svc__C': 81}\n",
    "\n",
    "{'sampling__k_neighbors': 1, 'sampling__m_neighbors': 1}"
   ]
  },
  {
   "cell_type": "code",
   "execution_count": 18,
   "metadata": {},
   "outputs": [],
   "source": [
    "svm_classifier = SVC(C=81)"
   ]
  },
  {
   "cell_type": "code",
   "execution_count": 19,
   "metadata": {},
   "outputs": [],
   "source": [
    "# best pipeline construction\n",
    "svm_clf_pipeline = Pipeline([\n",
    "    ('sampling', BorderlineSMOTE(k_neighbors=1, \n",
    "                                 m_neighbors=1, \n",
    "                                 sampling_strategy='minority')),\n",
    "    ('variance threshold', VarianceThreshold()),\n",
    "    ('kbest', SelectKBest(f_classif, k=450)),\n",
    "    ('standard_scaler', StandardScaler()), \n",
    "    ('pca', PCA(n_components=50)), \n",
    "    ('model', svm_classifier)\n",
    "])"
   ]
  },
  {
   "cell_type": "markdown",
   "metadata": {},
   "source": [
    "**best parameters for GBDT classifier**\n",
    "\n",
    "{'gradientboostingclassifier__ccp_alpha': 0.0}\n",
    "\n",
    "{'sampling__k_neighbors': 1, 'sampling__m_neighbors': 1}"
   ]
  },
  {
   "cell_type": "code",
   "execution_count": 20,
   "metadata": {},
   "outputs": [],
   "source": [
    "gbdt_classifier = GradientBoostingClassifier(ccp_alpha=0)"
   ]
  },
  {
   "cell_type": "code",
   "execution_count": 21,
   "metadata": {},
   "outputs": [],
   "source": [
    "# best pipeline construction\n",
    "gbdt_clf_pipeline = Pipeline([\n",
    "    ('sampling', BorderlineSMOTE(k_neighbors=1, \n",
    "                                 m_neighbors=1, \n",
    "                                 sampling_strategy='minority')),\n",
    "    ('variance threshold', VarianceThreshold()),\n",
    "    ('kbest', SelectKBest(f_classif, k=450)),\n",
    "    ('standard_scaler', StandardScaler()), \n",
    "    ('pca', PCA(n_components=50)), \n",
    "    ('model', gbdt_classifier)\n",
    "])"
   ]
  },
  {
   "cell_type": "markdown",
   "metadata": {},
   "source": [
    "**10-fold verification**"
   ]
  },
  {
   "cell_type": "code",
   "execution_count": 22,
   "metadata": {},
   "outputs": [],
   "source": [
    "fold = 10\n",
    "\n",
    "xgb_clf_weighted_avg_f1 = []\n",
    "svm_clf_weighted_avg_f1 = []\n",
    "gbdt_clf_weighted_avg_f1 = []\n",
    "\n",
    "for i in range(fold):\n",
    "    X_trainval, X_test, y_trainval, y_test = train_test_split(X, y_clf, test_size=(1/fold))\n",
    "    \n",
    "    xgb_clf_pipeline.fit(X_trainval, y_trainval)\n",
    "    svm_clf_pipeline.fit(X_trainval, y_trainval)\n",
    "    gbdt_clf_pipeline.fit(X_trainval, y_trainval)\n",
    "    \n",
    "    # for xgb clf\n",
    "    y_pred = xgb_clf_pipeline.predict(X_test)\n",
    "    y_true = y_test\n",
    "    \n",
    "    target_names = ['unstale', 'stable']\n",
    "    report = classification_report(y_true, y_pred, target_names=target_names, output_dict=True)\n",
    "    xgb_clf_weighted_avg_f1.append(report['weighted avg']['f1-score'])\n",
    "    \n",
    "    # for svm clf\n",
    "    y_pred = svm_clf_pipeline.predict(X_test)\n",
    "    y_true = y_test\n",
    "    \n",
    "    target_names = ['unstale', 'stable']\n",
    "    report = classification_report(y_true, y_pred, target_names=target_names, output_dict=True)\n",
    "    svm_clf_weighted_avg_f1.append(report['weighted avg']['f1-score'])\n",
    "    \n",
    "    # for gbdt clf\n",
    "    y_pred = gbdt_clf_pipeline.predict(X_test)\n",
    "    y_true = y_test\n",
    "    \n",
    "    target_names = ['unstale', 'stable']\n",
    "    report = classification_report(y_true, y_pred, target_names=target_names, output_dict=True)\n",
    "    gbdt_clf_weighted_avg_f1.append(report['weighted avg']['f1-score'])"
   ]
  },
  {
   "cell_type": "markdown",
   "metadata": {},
   "source": [
    "**xgb classification results**"
   ]
  },
  {
   "cell_type": "code",
   "execution_count": 23,
   "metadata": {},
   "outputs": [
    {
     "name": "stdout",
     "output_type": "stream",
     "text": [
      "average weighted f1 score for xgb clf 0.909 ± 0.049\n"
     ]
    }
   ],
   "source": [
    "print('average weighted f1 score for xgb clf', \n",
    "      '{:.3f}'.format(np.mean(xgb_clf_weighted_avg_f1)), \n",
    "      '±', \n",
    "      '{:.3f}'.format(2*np.std(xgb_clf_weighted_avg_f1)))"
   ]
  },
  {
   "cell_type": "markdown",
   "metadata": {},
   "source": [
    "**svm classification results**"
   ]
  },
  {
   "cell_type": "code",
   "execution_count": 24,
   "metadata": {},
   "outputs": [
    {
     "name": "stdout",
     "output_type": "stream",
     "text": [
      "average weighted f1 score for svm clf 0.921 ± 0.027\n"
     ]
    }
   ],
   "source": [
    "print('average weighted f1 score for svm clf', \n",
    "      '{:.3f}'.format(np.mean(svm_clf_weighted_avg_f1)), \n",
    "      '±', \n",
    "      '{:.3f}'.format(2*np.std(svm_clf_weighted_avg_f1)))"
   ]
  },
  {
   "cell_type": "markdown",
   "metadata": {},
   "source": [
    "**gbdt classification results**"
   ]
  },
  {
   "cell_type": "code",
   "execution_count": 25,
   "metadata": {},
   "outputs": [
    {
     "name": "stdout",
     "output_type": "stream",
     "text": [
      "average weighted f1 score for gbdt clf 0.872 ± 0.031\n"
     ]
    }
   ],
   "source": [
    "print('average weighted f1 score for gbdt clf', \n",
    "      '{:.3f}'.format(np.mean(gbdt_clf_weighted_avg_f1)), \n",
    "      '±', \n",
    "      '{:.3f}'.format(2*np.std(gbdt_clf_weighted_avg_f1)))"
   ]
  },
  {
   "cell_type": "markdown",
   "metadata": {},
   "source": [
    "## **Evaluation on subgroups**"
   ]
  },
  {
   "cell_type": "markdown",
   "metadata": {},
   "source": [
    "**Ba, Sr, Fe, Co subset creation**"
   ]
  },
  {
   "cell_type": "code",
   "execution_count": 26,
   "metadata": {},
   "outputs": [],
   "source": [
    "Ba_list = []\n",
    "Sr_list = []\n",
    "Fe_list = []\n",
    "Co_list = []\n",
    "for i in range(len(data.index)):\n",
    "    if 'Ba' in data.index[i]:\n",
    "        Ba_list.append(i)\n",
    "    if 'Sr' in data.index[i]:\n",
    "        Sr_list.append(i)\n",
    "    if 'Fe' in data.index[i]:\n",
    "        Fe_list.append(i)\n",
    "    if 'Co' in data.index[i]:\n",
    "        Co_list.append(i)\n",
    "data_Ba = data.iloc[Ba_list]\n",
    "data_Sr = data.iloc[Sr_list]\n",
    "data_Fe = data.iloc[Fe_list]\n",
    "data_Co = data.iloc[Co_list]"
   ]
  },
  {
   "cell_type": "markdown",
   "metadata": {},
   "source": [
    "**modeling on Ba**"
   ]
  },
  {
   "cell_type": "code",
   "execution_count": 27,
   "metadata": {},
   "outputs": [],
   "source": [
    "# split the dataset into X and y(Energy Above Hull)\n",
    "X_ba = data_Ba.drop(['EnergyAboveHull'], axis=1)\n",
    "y_ba = data_Ba['EnergyAboveHull']\n",
    "\n",
    "y_ba_clf = np.zeros_like(y_ba)\n",
    "y_ba_clf = [1*(EAH<=40) for EAH in y_ba]"
   ]
  },
  {
   "cell_type": "markdown",
   "metadata": {},
   "source": [
    "**regression on Ba**"
   ]
  },
  {
   "cell_type": "code",
   "execution_count": 28,
   "metadata": {},
   "outputs": [
    {
     "name": "stdout",
     "output_type": "stream",
     "text": [
      "[09:41:50] WARNING: src/objective/regression_obj.cu:152: reg:linear is now deprecated in favor of reg:squarederror.\n",
      "[09:41:52] WARNING: src/objective/regression_obj.cu:152: reg:linear is now deprecated in favor of reg:squarederror.\n",
      "[09:41:53] WARNING: src/objective/regression_obj.cu:152: reg:linear is now deprecated in favor of reg:squarederror.\n",
      "[09:41:55] WARNING: src/objective/regression_obj.cu:152: reg:linear is now deprecated in favor of reg:squarederror.\n",
      "[09:41:56] WARNING: src/objective/regression_obj.cu:152: reg:linear is now deprecated in favor of reg:squarederror.\n",
      "[09:41:57] WARNING: src/objective/regression_obj.cu:152: reg:linear is now deprecated in favor of reg:squarederror.\n",
      "[09:41:59] WARNING: src/objective/regression_obj.cu:152: reg:linear is now deprecated in favor of reg:squarederror.\n",
      "[09:42:00] WARNING: src/objective/regression_obj.cu:152: reg:linear is now deprecated in favor of reg:squarederror.\n",
      "[09:42:01] WARNING: src/objective/regression_obj.cu:152: reg:linear is now deprecated in favor of reg:squarederror.\n",
      "[09:42:03] WARNING: src/objective/regression_obj.cu:152: reg:linear is now deprecated in favor of reg:squarederror.\n"
     ]
    }
   ],
   "source": [
    "fold = 10\n",
    "\n",
    "xgb_reg_avg_mae = []\n",
    "xgb_reg_avg_rmse = []\n",
    "\n",
    "svm_reg_avg_mae = []\n",
    "svm_reg_avg_rmse = []\n",
    "\n",
    "gbdt_reg_avg_mae = []\n",
    "gbdt_reg_avg_rmse = []\n",
    "\n",
    "for i in range(fold):\n",
    "    X_trainval, X_test, y_trainval, y_test = train_test_split(X_ba, y_ba, test_size=(1/fold))\n",
    "    \n",
    "    xgb_reg_pipeline.fit(X_trainval, y_trainval)\n",
    "    svm_reg_pipeline.fit(X_trainval, y_trainval)\n",
    "    gbdt_reg_pipeline.fit(X_trainval, y_trainval)\n",
    "    \n",
    "    # for xgb reg\n",
    "    y_pred = xgb_reg_pipeline.predict(X_test)\n",
    "    y_true = y_test\n",
    "    \n",
    "    xgb_reg_avg_mae.append(mean_absolute_error(y_true, y_pred))\n",
    "    xgb_reg_avg_rmse.append(sqrt(mean_squared_error(y_true, y_pred)))\n",
    "    \n",
    "    # for svm reg\n",
    "    y_pred = svm_reg_pipeline.predict(X_test)\n",
    "    y_true = y_test\n",
    "    \n",
    "    svm_reg_avg_mae.append(mean_absolute_error(y_true, y_pred))\n",
    "    svm_reg_avg_rmse.append(sqrt(mean_squared_error(y_true, y_pred)))\n",
    "    \n",
    "    # for gbdt reg\n",
    "    y_pred = gbdt_reg_pipeline.predict(X_test)\n",
    "    y_true = y_test\n",
    "    \n",
    "    gbdt_reg_avg_mae.append(mean_absolute_error(y_true, y_pred))\n",
    "    gbdt_reg_avg_rmse.append(sqrt(mean_squared_error(y_true, y_pred)))"
   ]
  },
  {
   "cell_type": "markdown",
   "metadata": {},
   "source": [
    "**xgb regression results**"
   ]
  },
  {
   "cell_type": "code",
   "execution_count": 29,
   "metadata": {},
   "outputs": [
    {
     "name": "stdout",
     "output_type": "stream",
     "text": [
      "average mae of xgb reg 33.743 ± 7.160\n",
      "average rmse of xgb reg 66.046 ± 47.597\n"
     ]
    }
   ],
   "source": [
    "print('average mae of xgb reg', \n",
    "      '{:.3f}'.format(np.mean(xgb_reg_avg_mae)), \n",
    "      '±', \n",
    "      '{:.3f}'.format(2*np.std(xgb_reg_avg_mae)))\n",
    "print('average rmse of xgb reg', \n",
    "      '{:.3f}'.format(np.mean(xgb_reg_avg_rmse)), \n",
    "      '±', \n",
    "      '{:.3f}'.format(2*np.std(xgb_reg_avg_rmse)))"
   ]
  },
  {
   "cell_type": "markdown",
   "metadata": {},
   "source": [
    "**svm regression results**"
   ]
  },
  {
   "cell_type": "code",
   "execution_count": 30,
   "metadata": {},
   "outputs": [
    {
     "name": "stdout",
     "output_type": "stream",
     "text": [
      "average mae of svm reg 23.625 ± 7.366\n",
      "average rmse of svm reg 60.654 ± 54.178\n"
     ]
    }
   ],
   "source": [
    "print('average mae of svm reg', \n",
    "      '{:.3f}'.format(np.mean(svm_reg_avg_mae)), \n",
    "      '±', \n",
    "      '{:.3f}'.format(2*np.std(svm_reg_avg_mae)))\n",
    "print('average rmse of svm reg', \n",
    "      '{:.3f}'.format(np.mean(svm_reg_avg_rmse)), \n",
    "      '±', \n",
    "      '{:.3f}'.format(2*np.std(svm_reg_avg_rmse)))"
   ]
  },
  {
   "cell_type": "markdown",
   "metadata": {},
   "source": [
    "**gbdt regression results**"
   ]
  },
  {
   "cell_type": "code",
   "execution_count": 31,
   "metadata": {},
   "outputs": [
    {
     "name": "stdout",
     "output_type": "stream",
     "text": [
      "average mae of gbdt reg 39.047 ± 10.114\n",
      "average rmse of gbdt reg 72.620 ± 42.463\n"
     ]
    }
   ],
   "source": [
    "print('average mae of gbdt reg', \n",
    "      '{:.3f}'.format(np.mean(gbdt_reg_avg_mae)), \n",
    "      '±', \n",
    "      '{:.3f}'.format(2*np.std(gbdt_reg_avg_mae)))\n",
    "print('average rmse of gbdt reg', \n",
    "      '{:.3f}'.format(np.mean(gbdt_reg_avg_rmse)), \n",
    "      '±', \n",
    "      '{:.3f}'.format(2*np.std(gbdt_reg_avg_rmse)))"
   ]
  },
  {
   "cell_type": "markdown",
   "metadata": {},
   "source": [
    "**classification on Ba**"
   ]
  },
  {
   "cell_type": "code",
   "execution_count": 32,
   "metadata": {},
   "outputs": [],
   "source": [
    "fold = 10\n",
    "\n",
    "xgb_clf_weighted_avg_f1 = []\n",
    "svm_clf_weighted_avg_f1 = []\n",
    "gbdt_clf_weighted_avg_f1 = []\n",
    "\n",
    "for i in range(fold):\n",
    "    X_trainval, X_test, y_trainval, y_test = train_test_split(X_ba, y_ba_clf, test_size=(1/fold))\n",
    "    \n",
    "    xgb_clf_pipeline.fit(X_trainval, y_trainval)\n",
    "    svm_clf_pipeline.fit(X_trainval, y_trainval)\n",
    "    gbdt_clf_pipeline.fit(X_trainval, y_trainval)\n",
    "    \n",
    "    # for xgb clf\n",
    "    y_pred = xgb_clf_pipeline.predict(X_test)\n",
    "    y_true = y_test\n",
    "    \n",
    "    target_names = ['unstale', 'stable']\n",
    "    report = classification_report(y_true, y_pred, target_names=target_names, output_dict=True)\n",
    "    xgb_clf_weighted_avg_f1.append(report['weighted avg']['f1-score'])\n",
    "    \n",
    "    # for svm clf\n",
    "    y_pred = svm_clf_pipeline.predict(X_test)\n",
    "    y_true = y_test\n",
    "    \n",
    "    target_names = ['unstale', 'stable']\n",
    "    report = classification_report(y_true, y_pred, target_names=target_names, output_dict=True)\n",
    "    svm_clf_weighted_avg_f1.append(report['weighted avg']['f1-score'])\n",
    "    \n",
    "    # for gbdt clf\n",
    "    y_pred = gbdt_clf_pipeline.predict(X_test)\n",
    "    y_true = y_test\n",
    "    \n",
    "    target_names = ['unstale', 'stable']\n",
    "    report = classification_report(y_true, y_pred, target_names=target_names, output_dict=True)\n",
    "    gbdt_clf_weighted_avg_f1.append(report['weighted avg']['f1-score'])"
   ]
  },
  {
   "cell_type": "markdown",
   "metadata": {},
   "source": [
    "**xgb classification results**"
   ]
  },
  {
   "cell_type": "code",
   "execution_count": 33,
   "metadata": {},
   "outputs": [
    {
     "name": "stdout",
     "output_type": "stream",
     "text": [
      "average weighted f1 score for xgb clf 0.908 ± 0.048\n"
     ]
    }
   ],
   "source": [
    "print('average weighted f1 score for xgb clf', \n",
    "      '{:.3f}'.format(np.mean(xgb_clf_weighted_avg_f1)), \n",
    "      '±', \n",
    "      '{:.3f}'.format(2*np.std(xgb_clf_weighted_avg_f1)))"
   ]
  },
  {
   "cell_type": "markdown",
   "metadata": {},
   "source": [
    "**svm classification results**"
   ]
  },
  {
   "cell_type": "code",
   "execution_count": 34,
   "metadata": {},
   "outputs": [
    {
     "name": "stdout",
     "output_type": "stream",
     "text": [
      "average weighted f1 score for svm clf 0.923 ± 0.042\n"
     ]
    }
   ],
   "source": [
    "print('average weighted f1 score for svm clf', \n",
    "      '{:.3f}'.format(np.mean(svm_clf_weighted_avg_f1)), \n",
    "      '±', \n",
    "      '{:.3f}'.format(2*np.std(svm_clf_weighted_avg_f1)))"
   ]
  },
  {
   "cell_type": "markdown",
   "metadata": {},
   "source": [
    "**gbdt classification results**"
   ]
  },
  {
   "cell_type": "code",
   "execution_count": 35,
   "metadata": {},
   "outputs": [
    {
     "name": "stdout",
     "output_type": "stream",
     "text": [
      "average weighted f1 score for gbdt clf 0.895 ± 0.068\n"
     ]
    }
   ],
   "source": [
    "print('average weighted f1 score for gbdt clf', \n",
    "      '{:.3f}'.format(np.mean(gbdt_clf_weighted_avg_f1)), \n",
    "      '±', \n",
    "      '{:.3f}'.format(2*np.std(gbdt_clf_weighted_avg_f1)))"
   ]
  },
  {
   "cell_type": "markdown",
   "metadata": {},
   "source": [
    "**modeling on Sr**"
   ]
  },
  {
   "cell_type": "code",
   "execution_count": 36,
   "metadata": {},
   "outputs": [],
   "source": [
    "# split the dataset into X and y(Energy Above Hull)\n",
    "X_sr = data_Sr.drop(['EnergyAboveHull'], axis=1)\n",
    "y_sr = data_Sr['EnergyAboveHull']\n",
    "\n",
    "y_sr_clf = np.zeros_like(y_sr)\n",
    "y_sr_clf = [1*(EAH<=40) for EAH in y_sr]"
   ]
  },
  {
   "cell_type": "markdown",
   "metadata": {},
   "source": [
    "**regression on Sr**"
   ]
  },
  {
   "cell_type": "code",
   "execution_count": 37,
   "metadata": {},
   "outputs": [
    {
     "name": "stdout",
     "output_type": "stream",
     "text": [
      "[09:42:40] WARNING: src/objective/regression_obj.cu:152: reg:linear is now deprecated in favor of reg:squarederror.\n",
      "[09:42:41] WARNING: src/objective/regression_obj.cu:152: reg:linear is now deprecated in favor of reg:squarederror.\n",
      "[09:42:42] WARNING: src/objective/regression_obj.cu:152: reg:linear is now deprecated in favor of reg:squarederror.\n",
      "[09:42:43] WARNING: src/objective/regression_obj.cu:152: reg:linear is now deprecated in favor of reg:squarederror.\n",
      "[09:42:44] WARNING: src/objective/regression_obj.cu:152: reg:linear is now deprecated in favor of reg:squarederror.\n",
      "[09:42:45] WARNING: src/objective/regression_obj.cu:152: reg:linear is now deprecated in favor of reg:squarederror.\n",
      "[09:42:46] WARNING: src/objective/regression_obj.cu:152: reg:linear is now deprecated in favor of reg:squarederror.\n",
      "[09:42:48] WARNING: src/objective/regression_obj.cu:152: reg:linear is now deprecated in favor of reg:squarederror.\n",
      "[09:42:49] WARNING: src/objective/regression_obj.cu:152: reg:linear is now deprecated in favor of reg:squarederror.\n",
      "[09:42:50] WARNING: src/objective/regression_obj.cu:152: reg:linear is now deprecated in favor of reg:squarederror.\n"
     ]
    }
   ],
   "source": [
    "fold = 10\n",
    "\n",
    "xgb_reg_avg_mae = []\n",
    "xgb_reg_avg_rmse = []\n",
    "\n",
    "svm_reg_avg_mae = []\n",
    "svm_reg_avg_rmse = []\n",
    "\n",
    "gbdt_reg_avg_mae = []\n",
    "gbdt_reg_avg_rmse = []\n",
    "\n",
    "for i in range(fold):\n",
    "    X_trainval, X_test, y_trainval, y_test = train_test_split(X_sr, y_sr, test_size=(1/fold))\n",
    "    \n",
    "    xgb_reg_pipeline.fit(X_trainval, y_trainval)\n",
    "    svm_reg_pipeline.fit(X_trainval, y_trainval)\n",
    "    gbdt_reg_pipeline.fit(X_trainval, y_trainval)\n",
    "    \n",
    "    # for xgb reg\n",
    "    y_pred = xgb_reg_pipeline.predict(X_test)\n",
    "    y_true = y_test\n",
    "    \n",
    "    xgb_reg_avg_mae.append(mean_absolute_error(y_true, y_pred))\n",
    "    xgb_reg_avg_rmse.append(sqrt(mean_squared_error(y_true, y_pred)))\n",
    "    \n",
    "    # for svm reg\n",
    "    y_pred = svm_reg_pipeline.predict(X_test)\n",
    "    y_true = y_test\n",
    "    \n",
    "    svm_reg_avg_mae.append(mean_absolute_error(y_true, y_pred))\n",
    "    svm_reg_avg_rmse.append(sqrt(mean_squared_error(y_true, y_pred)))\n",
    "    \n",
    "    # for gbdt reg\n",
    "    y_pred = gbdt_reg_pipeline.predict(X_test)\n",
    "    y_true = y_test\n",
    "    \n",
    "    gbdt_reg_avg_mae.append(mean_absolute_error(y_true, y_pred))\n",
    "    gbdt_reg_avg_rmse.append(sqrt(mean_squared_error(y_true, y_pred)))"
   ]
  },
  {
   "cell_type": "markdown",
   "metadata": {},
   "source": [
    "**xgb regression results**"
   ]
  },
  {
   "cell_type": "code",
   "execution_count": 38,
   "metadata": {},
   "outputs": [
    {
     "name": "stdout",
     "output_type": "stream",
     "text": [
      "average mae of xgb reg 21.825 ± 3.378\n",
      "average rmse of xgb reg 31.385 ± 4.426\n"
     ]
    }
   ],
   "source": [
    "print('average mae of xgb reg', \n",
    "      '{:.3f}'.format(np.mean(xgb_reg_avg_mae)), \n",
    "      '±', \n",
    "      '{:.3f}'.format(2*np.std(xgb_reg_avg_mae)))\n",
    "print('average rmse of xgb reg', \n",
    "      '{:.3f}'.format(np.mean(xgb_reg_avg_rmse)), \n",
    "      '±', \n",
    "      '{:.3f}'.format(2*np.std(xgb_reg_avg_rmse)))"
   ]
  },
  {
   "cell_type": "markdown",
   "metadata": {},
   "source": [
    "**svm regression results**"
   ]
  },
  {
   "cell_type": "code",
   "execution_count": 39,
   "metadata": {},
   "outputs": [
    {
     "name": "stdout",
     "output_type": "stream",
     "text": [
      "average mae of svm reg 13.437 ± 4.570\n",
      "average rmse of svm reg 23.101 ± 8.466\n"
     ]
    }
   ],
   "source": [
    "print('average mae of svm reg', \n",
    "      '{:.3f}'.format(np.mean(svm_reg_avg_mae)), \n",
    "      '±', \n",
    "      '{:.3f}'.format(2*np.std(svm_reg_avg_mae)))\n",
    "print('average rmse of svm reg', \n",
    "      '{:.3f}'.format(np.mean(svm_reg_avg_rmse)), \n",
    "      '±', \n",
    "      '{:.3f}'.format(2*np.std(svm_reg_avg_rmse)))"
   ]
  },
  {
   "cell_type": "markdown",
   "metadata": {},
   "source": [
    "**gbdt regression results**"
   ]
  },
  {
   "cell_type": "code",
   "execution_count": 40,
   "metadata": {},
   "outputs": [
    {
     "name": "stdout",
     "output_type": "stream",
     "text": [
      "average mae of gbdt reg 24.526 ± 3.511\n",
      "average rmse of gbdt reg 33.836 ± 6.283\n"
     ]
    }
   ],
   "source": [
    "print('average mae of gbdt reg', \n",
    "      '{:.3f}'.format(np.mean(gbdt_reg_avg_mae)), \n",
    "      '±', \n",
    "      '{:.3f}'.format(2*np.std(gbdt_reg_avg_mae)))\n",
    "print('average rmse of gbdt reg', \n",
    "      '{:.3f}'.format(np.mean(gbdt_reg_avg_rmse)), \n",
    "      '±', \n",
    "      '{:.3f}'.format(2*np.std(gbdt_reg_avg_rmse)))"
   ]
  },
  {
   "cell_type": "markdown",
   "metadata": {},
   "source": [
    "**classification on Sr**"
   ]
  },
  {
   "cell_type": "code",
   "execution_count": 41,
   "metadata": {},
   "outputs": [],
   "source": [
    "fold = 10\n",
    "\n",
    "xgb_clf_weighted_avg_f1 = []\n",
    "svm_clf_weighted_avg_f1 = []\n",
    "gbdt_clf_weighted_avg_f1 = []\n",
    "\n",
    "for i in range(fold):\n",
    "    X_trainval, X_test, y_trainval, y_test = train_test_split(X_sr, y_sr_clf, test_size=(1/fold))\n",
    "    \n",
    "    xgb_clf_pipeline.fit(X_trainval, y_trainval)\n",
    "    svm_clf_pipeline.fit(X_trainval, y_trainval)\n",
    "    gbdt_clf_pipeline.fit(X_trainval, y_trainval)\n",
    "    \n",
    "    # for xgb clf\n",
    "    y_pred = xgb_clf_pipeline.predict(X_test)\n",
    "    y_true = y_test\n",
    "    \n",
    "    target_names = ['unstale', 'stable']\n",
    "    report = classification_report(y_true, y_pred, target_names=target_names, output_dict=True)\n",
    "    xgb_clf_weighted_avg_f1.append(report['weighted avg']['f1-score'])\n",
    "    \n",
    "    # for svm clf\n",
    "    y_pred = svm_clf_pipeline.predict(X_test)\n",
    "    y_true = y_test\n",
    "    \n",
    "    target_names = ['unstale', 'stable']\n",
    "    report = classification_report(y_true, y_pred, target_names=target_names, output_dict=True)\n",
    "    svm_clf_weighted_avg_f1.append(report['weighted avg']['f1-score'])\n",
    "    \n",
    "    # for gbdt clf\n",
    "    y_pred = gbdt_clf_pipeline.predict(X_test)\n",
    "    y_true = y_test\n",
    "    \n",
    "    target_names = ['unstale', 'stable']\n",
    "    report = classification_report(y_true, y_pred, target_names=target_names, output_dict=True)\n",
    "    gbdt_clf_weighted_avg_f1.append(report['weighted avg']['f1-score'])"
   ]
  },
  {
   "cell_type": "markdown",
   "metadata": {},
   "source": [
    "**xgb classification results**"
   ]
  },
  {
   "cell_type": "code",
   "execution_count": 42,
   "metadata": {},
   "outputs": [
    {
     "name": "stdout",
     "output_type": "stream",
     "text": [
      "average weighted f1 score for xgb clf 0.935 ± 0.086\n"
     ]
    }
   ],
   "source": [
    "print('average weighted f1 score for xgb clf', \n",
    "      '{:.3f}'.format(np.mean(xgb_clf_weighted_avg_f1)), \n",
    "      '±', \n",
    "      '{:.3f}'.format(2*np.std(xgb_clf_weighted_avg_f1)))"
   ]
  },
  {
   "cell_type": "markdown",
   "metadata": {},
   "source": [
    "**svm classification results**"
   ]
  },
  {
   "cell_type": "code",
   "execution_count": 43,
   "metadata": {},
   "outputs": [
    {
     "name": "stdout",
     "output_type": "stream",
     "text": [
      "average weighted f1 score for svm clf 0.933 ± 0.065\n"
     ]
    }
   ],
   "source": [
    "print('average weighted f1 score for svm clf', \n",
    "      '{:.3f}'.format(np.mean(svm_clf_weighted_avg_f1)), \n",
    "      '±', \n",
    "      '{:.3f}'.format(2*np.std(svm_clf_weighted_avg_f1)))"
   ]
  },
  {
   "cell_type": "markdown",
   "metadata": {},
   "source": [
    "**gbdt classification results**"
   ]
  },
  {
   "cell_type": "code",
   "execution_count": 44,
   "metadata": {},
   "outputs": [
    {
     "name": "stdout",
     "output_type": "stream",
     "text": [
      "average weighted f1 score for gbdt clf 0.932 ± 0.067\n"
     ]
    }
   ],
   "source": [
    "print('average weighted f1 score for gbdt clf', \n",
    "      '{:.3f}'.format(np.mean(gbdt_clf_weighted_avg_f1)), \n",
    "      '±', \n",
    "      '{:.3f}'.format(2*np.std(gbdt_clf_weighted_avg_f1)))"
   ]
  },
  {
   "cell_type": "markdown",
   "metadata": {},
   "source": [
    "**modeling on Fe**"
   ]
  },
  {
   "cell_type": "code",
   "execution_count": 45,
   "metadata": {},
   "outputs": [],
   "source": [
    "# split the dataset into X and y(Energy Above Hull)\n",
    "X_fe = data_Fe.drop(['EnergyAboveHull'], axis=1)\n",
    "y_fe = data_Fe['EnergyAboveHull']\n",
    "\n",
    "y_fe_clf = np.zeros_like(y_fe)\n",
    "y_fe_clf = [1*(EAH<=40) for EAH in y_fe]"
   ]
  },
  {
   "cell_type": "markdown",
   "metadata": {},
   "source": [
    "**regression on Fe**"
   ]
  },
  {
   "cell_type": "code",
   "execution_count": 46,
   "metadata": {},
   "outputs": [
    {
     "name": "stdout",
     "output_type": "stream",
     "text": [
      "[09:43:20] WARNING: src/objective/regression_obj.cu:152: reg:linear is now deprecated in favor of reg:squarederror.\n",
      "[09:43:21] WARNING: src/objective/regression_obj.cu:152: reg:linear is now deprecated in favor of reg:squarederror.\n",
      "[09:43:22] WARNING: src/objective/regression_obj.cu:152: reg:linear is now deprecated in favor of reg:squarederror.\n",
      "[09:43:23] WARNING: src/objective/regression_obj.cu:152: reg:linear is now deprecated in favor of reg:squarederror.\n",
      "[09:43:24] WARNING: src/objective/regression_obj.cu:152: reg:linear is now deprecated in favor of reg:squarederror.\n",
      "[09:43:26] WARNING: src/objective/regression_obj.cu:152: reg:linear is now deprecated in favor of reg:squarederror.\n",
      "[09:43:27] WARNING: src/objective/regression_obj.cu:152: reg:linear is now deprecated in favor of reg:squarederror.\n",
      "[09:43:28] WARNING: src/objective/regression_obj.cu:152: reg:linear is now deprecated in favor of reg:squarederror.\n",
      "[09:43:29] WARNING: src/objective/regression_obj.cu:152: reg:linear is now deprecated in favor of reg:squarederror.\n",
      "[09:43:31] WARNING: src/objective/regression_obj.cu:152: reg:linear is now deprecated in favor of reg:squarederror.\n"
     ]
    }
   ],
   "source": [
    "fold = 10\n",
    "\n",
    "xgb_reg_avg_mae = []\n",
    "xgb_reg_avg_rmse = []\n",
    "\n",
    "svm_reg_avg_mae = []\n",
    "svm_reg_avg_rmse = []\n",
    "\n",
    "gbdt_reg_avg_mae = []\n",
    "gbdt_reg_avg_rmse = []\n",
    "\n",
    "for i in range(fold):\n",
    "    X_trainval, X_test, y_trainval, y_test = train_test_split(X_fe, y_fe, test_size=(1/fold))\n",
    "    \n",
    "    xgb_reg_pipeline.fit(X_trainval, y_trainval)\n",
    "    svm_reg_pipeline.fit(X_trainval, y_trainval)\n",
    "    gbdt_reg_pipeline.fit(X_trainval, y_trainval)\n",
    "    \n",
    "    # for xgb reg\n",
    "    y_pred = xgb_reg_pipeline.predict(X_test)\n",
    "    y_true = y_test\n",
    "    \n",
    "    xgb_reg_avg_mae.append(mean_absolute_error(y_true, y_pred))\n",
    "    xgb_reg_avg_rmse.append(sqrt(mean_squared_error(y_true, y_pred)))\n",
    "    \n",
    "    # for svm reg\n",
    "    y_pred = svm_reg_pipeline.predict(X_test)\n",
    "    y_true = y_test\n",
    "    \n",
    "    svm_reg_avg_mae.append(mean_absolute_error(y_true, y_pred))\n",
    "    svm_reg_avg_rmse.append(sqrt(mean_squared_error(y_true, y_pred)))\n",
    "    \n",
    "    # for gbdt reg\n",
    "    y_pred = gbdt_reg_pipeline.predict(X_test)\n",
    "    y_true = y_test\n",
    "    \n",
    "    gbdt_reg_avg_mae.append(mean_absolute_error(y_true, y_pred))\n",
    "    gbdt_reg_avg_rmse.append(sqrt(mean_squared_error(y_true, y_pred)))"
   ]
  },
  {
   "cell_type": "markdown",
   "metadata": {},
   "source": [
    "**xgb regression results**"
   ]
  },
  {
   "cell_type": "code",
   "execution_count": 47,
   "metadata": {},
   "outputs": [
    {
     "name": "stdout",
     "output_type": "stream",
     "text": [
      "average mae of xgb reg 29.623 ± 8.216\n",
      "average rmse of xgb reg 53.328 ± 40.789\n"
     ]
    }
   ],
   "source": [
    "print('average mae of xgb reg', \n",
    "      '{:.3f}'.format(np.mean(xgb_reg_avg_mae)), \n",
    "      '±', \n",
    "      '{:.3f}'.format(2*np.std(xgb_reg_avg_mae)))\n",
    "print('average rmse of xgb reg', \n",
    "      '{:.3f}'.format(np.mean(xgb_reg_avg_rmse)), \n",
    "      '±', \n",
    "      '{:.3f}'.format(2*np.std(xgb_reg_avg_rmse)))"
   ]
  },
  {
   "cell_type": "markdown",
   "metadata": {},
   "source": [
    "**svm regression results**"
   ]
  },
  {
   "cell_type": "code",
   "execution_count": 48,
   "metadata": {},
   "outputs": [
    {
     "name": "stdout",
     "output_type": "stream",
     "text": [
      "average mae of svm reg 21.700 ± 8.574\n",
      "average rmse of svm reg 49.154 ± 53.715\n"
     ]
    }
   ],
   "source": [
    "print('average mae of svm reg', \n",
    "      '{:.3f}'.format(np.mean(svm_reg_avg_mae)), \n",
    "      '±', \n",
    "      '{:.3f}'.format(2*np.std(svm_reg_avg_mae)))\n",
    "print('average rmse of svm reg', \n",
    "      '{:.3f}'.format(np.mean(svm_reg_avg_rmse)), \n",
    "      '±', \n",
    "      '{:.3f}'.format(2*np.std(svm_reg_avg_rmse)))"
   ]
  },
  {
   "cell_type": "markdown",
   "metadata": {},
   "source": [
    "**gbdt regression results**"
   ]
  },
  {
   "cell_type": "code",
   "execution_count": 49,
   "metadata": {},
   "outputs": [
    {
     "name": "stdout",
     "output_type": "stream",
     "text": [
      "average mae of gbdt reg 36.139 ± 10.627\n",
      "average rmse of gbdt reg 59.467 ± 37.883\n"
     ]
    }
   ],
   "source": [
    "print('average mae of gbdt reg', \n",
    "      '{:.3f}'.format(np.mean(gbdt_reg_avg_mae)), \n",
    "      '±', \n",
    "      '{:.3f}'.format(2*np.std(gbdt_reg_avg_mae)))\n",
    "print('average rmse of gbdt reg', \n",
    "      '{:.3f}'.format(np.mean(gbdt_reg_avg_rmse)), \n",
    "      '±', \n",
    "      '{:.3f}'.format(2*np.std(gbdt_reg_avg_rmse)))"
   ]
  },
  {
   "cell_type": "markdown",
   "metadata": {},
   "source": [
    "**classification on Fe**"
   ]
  },
  {
   "cell_type": "code",
   "execution_count": 50,
   "metadata": {},
   "outputs": [],
   "source": [
    "fold = 10\n",
    "\n",
    "xgb_clf_weighted_avg_f1 = []\n",
    "svm_clf_weighted_avg_f1 = []\n",
    "gbdt_clf_weighted_avg_f1 = []\n",
    "\n",
    "for i in range(fold):\n",
    "    X_trainval, X_test, y_trainval, y_test = train_test_split(X_fe, y_fe_clf, test_size=(1/fold))\n",
    "    \n",
    "    xgb_clf_pipeline.fit(X_trainval, y_trainval)\n",
    "    svm_clf_pipeline.fit(X_trainval, y_trainval)\n",
    "    gbdt_clf_pipeline.fit(X_trainval, y_trainval)\n",
    "    \n",
    "    # for xgb clf\n",
    "    y_pred = xgb_clf_pipeline.predict(X_test)\n",
    "    y_true = y_test\n",
    "    \n",
    "    target_names = ['unstale', 'stable']\n",
    "    report = classification_report(y_true, y_pred, target_names=target_names, output_dict=True)\n",
    "    xgb_clf_weighted_avg_f1.append(report['weighted avg']['f1-score'])\n",
    "    \n",
    "    # for svm clf\n",
    "    y_pred = svm_clf_pipeline.predict(X_test)\n",
    "    y_true = y_test\n",
    "    \n",
    "    target_names = ['unstale', 'stable']\n",
    "    report = classification_report(y_true, y_pred, target_names=target_names, output_dict=True)\n",
    "    svm_clf_weighted_avg_f1.append(report['weighted avg']['f1-score'])\n",
    "    \n",
    "    # for gbdt clf\n",
    "    y_pred = gbdt_clf_pipeline.predict(X_test)\n",
    "    y_true = y_test\n",
    "    \n",
    "    target_names = ['unstale', 'stable']\n",
    "    report = classification_report(y_true, y_pred, target_names=target_names, output_dict=True)\n",
    "    gbdt_clf_weighted_avg_f1.append(report['weighted avg']['f1-score'])"
   ]
  },
  {
   "cell_type": "markdown",
   "metadata": {},
   "source": [
    "**xgb classifcation results**"
   ]
  },
  {
   "cell_type": "code",
   "execution_count": 51,
   "metadata": {},
   "outputs": [
    {
     "name": "stdout",
     "output_type": "stream",
     "text": [
      "average weighted f1 score for xgb clf 0.894 ± 0.077\n"
     ]
    }
   ],
   "source": [
    "print('average weighted f1 score for xgb clf', \n",
    "      '{:.3f}'.format(np.mean(xgb_clf_weighted_avg_f1)), \n",
    "      '±', \n",
    "      '{:.3f}'.format(2*np.std(xgb_clf_weighted_avg_f1)))"
   ]
  },
  {
   "cell_type": "markdown",
   "metadata": {},
   "source": [
    "**svm classifcation results**"
   ]
  },
  {
   "cell_type": "code",
   "execution_count": 52,
   "metadata": {},
   "outputs": [
    {
     "name": "stdout",
     "output_type": "stream",
     "text": [
      "average weighted f1 score for svm clf 0.927 ± 0.051\n"
     ]
    }
   ],
   "source": [
    "print('average weighted f1 score for svm clf', \n",
    "      '{:.3f}'.format(np.mean(svm_clf_weighted_avg_f1)), \n",
    "      '±', \n",
    "      '{:.3f}'.format(2*np.std(svm_clf_weighted_avg_f1)))"
   ]
  },
  {
   "cell_type": "markdown",
   "metadata": {},
   "source": [
    "**gbdt classifcation results**"
   ]
  },
  {
   "cell_type": "code",
   "execution_count": 53,
   "metadata": {},
   "outputs": [
    {
     "name": "stdout",
     "output_type": "stream",
     "text": [
      "average weighted f1 score for gbdt clf 0.887 ± 0.097\n"
     ]
    }
   ],
   "source": [
    "print('average weighted f1 score for gbdt clf', \n",
    "      '{:.3f}'.format(np.mean(gbdt_clf_weighted_avg_f1)), \n",
    "      '±', \n",
    "      '{:.3f}'.format(2*np.std(gbdt_clf_weighted_avg_f1)))"
   ]
  },
  {
   "cell_type": "markdown",
   "metadata": {},
   "source": [
    "**modeling on Co**"
   ]
  },
  {
   "cell_type": "code",
   "execution_count": 54,
   "metadata": {},
   "outputs": [],
   "source": [
    "# split the dataset into X and y(Energy Above Hull)\n",
    "X_co = data_Co.drop(['EnergyAboveHull'], axis=1)\n",
    "y_co = data_Co['EnergyAboveHull']\n",
    "\n",
    "y_co_clf = np.zeros_like(y_co)\n",
    "y_co_clf = [1*(EAH<=40) for EAH in y_co]"
   ]
  },
  {
   "cell_type": "markdown",
   "metadata": {},
   "source": [
    "**regression on Co**"
   ]
  },
  {
   "cell_type": "code",
   "execution_count": 55,
   "metadata": {},
   "outputs": [
    {
     "name": "stdout",
     "output_type": "stream",
     "text": [
      "[09:44:07] WARNING: src/objective/regression_obj.cu:152: reg:linear is now deprecated in favor of reg:squarederror.\n",
      "[09:44:08] WARNING: src/objective/regression_obj.cu:152: reg:linear is now deprecated in favor of reg:squarederror.\n",
      "[09:44:09] WARNING: src/objective/regression_obj.cu:152: reg:linear is now deprecated in favor of reg:squarederror.\n",
      "[09:44:10] WARNING: src/objective/regression_obj.cu:152: reg:linear is now deprecated in favor of reg:squarederror.\n",
      "[09:44:11] WARNING: src/objective/regression_obj.cu:152: reg:linear is now deprecated in favor of reg:squarederror.\n",
      "[09:44:12] WARNING: src/objective/regression_obj.cu:152: reg:linear is now deprecated in favor of reg:squarederror.\n",
      "[09:44:13] WARNING: src/objective/regression_obj.cu:152: reg:linear is now deprecated in favor of reg:squarederror.\n",
      "[09:44:14] WARNING: src/objective/regression_obj.cu:152: reg:linear is now deprecated in favor of reg:squarederror.\n",
      "[09:44:15] WARNING: src/objective/regression_obj.cu:152: reg:linear is now deprecated in favor of reg:squarederror.\n",
      "[09:44:16] WARNING: src/objective/regression_obj.cu:152: reg:linear is now deprecated in favor of reg:squarederror.\n"
     ]
    }
   ],
   "source": [
    "fold = 10\n",
    "\n",
    "xgb_reg_avg_mae = []\n",
    "xgb_reg_avg_rmse = []\n",
    "\n",
    "svm_reg_avg_mae = []\n",
    "svm_reg_avg_rmse = []\n",
    "\n",
    "gbdt_reg_avg_mae = []\n",
    "gbdt_reg_avg_rmse = []\n",
    "\n",
    "for i in range(fold):\n",
    "    X_trainval, X_test, y_trainval, y_test = train_test_split(X_co, y_co, test_size=(1/fold))\n",
    "    \n",
    "    xgb_reg_pipeline.fit(X_trainval, y_trainval)\n",
    "    svm_reg_pipeline.fit(X_trainval, y_trainval)\n",
    "    gbdt_reg_pipeline.fit(X_trainval, y_trainval)\n",
    "    \n",
    "    # for xgb reg\n",
    "    y_pred = xgb_reg_pipeline.predict(X_test)\n",
    "    y_true = y_test\n",
    "    \n",
    "    xgb_reg_avg_mae.append(mean_absolute_error(y_true, y_pred))\n",
    "    xgb_reg_avg_rmse.append(sqrt(mean_squared_error(y_true, y_pred)))\n",
    "    \n",
    "    # for svm reg\n",
    "    y_pred = svm_reg_pipeline.predict(X_test)\n",
    "    y_true = y_test\n",
    "    \n",
    "    svm_reg_avg_mae.append(mean_absolute_error(y_true, y_pred))\n",
    "    svm_reg_avg_rmse.append(sqrt(mean_squared_error(y_true, y_pred)))\n",
    "    \n",
    "    # for gbdt reg\n",
    "    y_pred = gbdt_reg_pipeline.predict(X_test)\n",
    "    y_true = y_test\n",
    "    \n",
    "    gbdt_reg_avg_mae.append(mean_absolute_error(y_true, y_pred))\n",
    "    gbdt_reg_avg_rmse.append(sqrt(mean_squared_error(y_true, y_pred)))"
   ]
  },
  {
   "cell_type": "markdown",
   "metadata": {},
   "source": [
    "**xgb regression results**"
   ]
  },
  {
   "cell_type": "code",
   "execution_count": 56,
   "metadata": {},
   "outputs": [
    {
     "name": "stdout",
     "output_type": "stream",
     "text": [
      "average mae of xgb reg 20.983 ± 7.081\n",
      "average rmse of xgb reg 30.771 ± 13.017\n"
     ]
    }
   ],
   "source": [
    "print('average mae of xgb reg', \n",
    "      '{:.3f}'.format(np.mean(xgb_reg_avg_mae)), \n",
    "      '±', \n",
    "      '{:.3f}'.format(2*np.std(xgb_reg_avg_mae)))\n",
    "print('average rmse of xgb reg', \n",
    "      '{:.3f}'.format(np.mean(xgb_reg_avg_rmse)), \n",
    "      '±', \n",
    "      '{:.3f}'.format(2*np.std(xgb_reg_avg_rmse)))"
   ]
  },
  {
   "cell_type": "markdown",
   "metadata": {},
   "source": [
    "**svm regression results**"
   ]
  },
  {
   "cell_type": "code",
   "execution_count": 57,
   "metadata": {},
   "outputs": [
    {
     "name": "stdout",
     "output_type": "stream",
     "text": [
      "average mae of svm reg 17.530 ± 7.541\n",
      "average rmse of svm reg 28.730 ± 14.677\n"
     ]
    }
   ],
   "source": [
    "print('average mae of svm reg', \n",
    "      '{:.3f}'.format(np.mean(svm_reg_avg_mae)), \n",
    "      '±', \n",
    "      '{:.3f}'.format(2*np.std(svm_reg_avg_mae)))\n",
    "print('average rmse of svm reg', \n",
    "      '{:.3f}'.format(np.mean(svm_reg_avg_rmse)), \n",
    "      '±', \n",
    "      '{:.3f}'.format(2*np.std(svm_reg_avg_rmse)))"
   ]
  },
  {
   "cell_type": "markdown",
   "metadata": {},
   "source": [
    "**gbdt regression results**"
   ]
  },
  {
   "cell_type": "code",
   "execution_count": 58,
   "metadata": {},
   "outputs": [
    {
     "name": "stdout",
     "output_type": "stream",
     "text": [
      "average mae of gbdt reg 22.271 ± 7.975\n",
      "average rmse of gbdt reg 31.126 ± 14.163\n"
     ]
    }
   ],
   "source": [
    "print('average mae of gbdt reg', \n",
    "      '{:.3f}'.format(np.mean(gbdt_reg_avg_mae)), \n",
    "      '±', \n",
    "      '{:.3f}'.format(2*np.std(gbdt_reg_avg_mae)))\n",
    "print('average rmse of gbdt reg', \n",
    "      '{:.3f}'.format(np.mean(gbdt_reg_avg_rmse)), \n",
    "      '±', \n",
    "      '{:.3f}'.format(2*np.std(gbdt_reg_avg_rmse)))"
   ]
  },
  {
   "cell_type": "markdown",
   "metadata": {},
   "source": [
    "**classification on Co**"
   ]
  },
  {
   "cell_type": "code",
   "execution_count": 59,
   "metadata": {},
   "outputs": [],
   "source": [
    "fold = 10\n",
    "\n",
    "xgb_clf_weighted_avg_f1 = []\n",
    "svm_clf_weighted_avg_f1 = []\n",
    "gbdt_clf_weighted_avg_f1 = []\n",
    "\n",
    "for i in range(fold):\n",
    "    X_trainval, X_test, y_trainval, y_test = train_test_split(X_co, y_co_clf, test_size=(1/fold))\n",
    "    \n",
    "    xgb_clf_pipeline.fit(X_trainval, y_trainval)\n",
    "    svm_clf_pipeline.fit(X_trainval, y_trainval)\n",
    "    gbdt_clf_pipeline.fit(X_trainval, y_trainval)\n",
    "    \n",
    "    # for xgb clf\n",
    "    y_pred = xgb_clf_pipeline.predict(X_test)\n",
    "    y_true = y_test\n",
    "    \n",
    "    target_names = ['unstale', 'stable']\n",
    "    report = classification_report(y_true, y_pred, target_names=target_names, output_dict=True)\n",
    "    xgb_clf_weighted_avg_f1.append(report['weighted avg']['f1-score'])\n",
    "    \n",
    "    # for svm clf\n",
    "    y_pred = svm_clf_pipeline.predict(X_test)\n",
    "    y_true = y_test\n",
    "    \n",
    "    target_names = ['unstale', 'stable']\n",
    "    report = classification_report(y_true, y_pred, target_names=target_names, output_dict=True)\n",
    "    svm_clf_weighted_avg_f1.append(report['weighted avg']['f1-score'])\n",
    "    \n",
    "    # for gbdt clf\n",
    "    y_pred = gbdt_clf_pipeline.predict(X_test)\n",
    "    y_true = y_test\n",
    "    \n",
    "    target_names = ['unstale', 'stable']\n",
    "    report = classification_report(y_true, y_pred, target_names=target_names, output_dict=True)\n",
    "    gbdt_clf_weighted_avg_f1.append(report['weighted avg']['f1-score'])"
   ]
  },
  {
   "cell_type": "markdown",
   "metadata": {},
   "source": [
    "**xgb classification results**"
   ]
  },
  {
   "cell_type": "code",
   "execution_count": 60,
   "metadata": {},
   "outputs": [
    {
     "name": "stdout",
     "output_type": "stream",
     "text": [
      "average weighted f1 score for xgb clf 0.915 ± 0.109\n"
     ]
    }
   ],
   "source": [
    "print('average weighted f1 score for xgb clf', \n",
    "      '{:.3f}'.format(np.mean(xgb_clf_weighted_avg_f1)), \n",
    "      '±', \n",
    "      '{:.3f}'.format(2*np.std(xgb_clf_weighted_avg_f1)))"
   ]
  },
  {
   "cell_type": "markdown",
   "metadata": {},
   "source": [
    "**svm classification results**"
   ]
  },
  {
   "cell_type": "code",
   "execution_count": 61,
   "metadata": {},
   "outputs": [
    {
     "name": "stdout",
     "output_type": "stream",
     "text": [
      "average weighted f1 score for svm clf 0.921 ± 0.063\n"
     ]
    }
   ],
   "source": [
    "print('average weighted f1 score for svm clf', \n",
    "      '{:.3f}'.format(np.mean(svm_clf_weighted_avg_f1)), \n",
    "      '±', \n",
    "      '{:.3f}'.format(2*np.std(svm_clf_weighted_avg_f1)))"
   ]
  },
  {
   "cell_type": "markdown",
   "metadata": {},
   "source": [
    "**gbdt classification results**"
   ]
  },
  {
   "cell_type": "code",
   "execution_count": 62,
   "metadata": {},
   "outputs": [
    {
     "name": "stdout",
     "output_type": "stream",
     "text": [
      "average weighted f1 score for gbdt clf 0.896 ± 0.077\n"
     ]
    }
   ],
   "source": [
    "print('average weighted f1 score for gbdt clf', \n",
    "      '{:.3f}'.format(np.mean(gbdt_clf_weighted_avg_f1)), \n",
    "      '±', \n",
    "      '{:.3f}'.format(2*np.std(gbdt_clf_weighted_avg_f1)))"
   ]
  }
 ],
 "metadata": {
  "kernelspec": {
   "display_name": "Python 3",
   "language": "python",
   "name": "python3"
  },
  "language_info": {
   "codemirror_mode": {
    "name": "ipython",
    "version": 3
   },
   "file_extension": ".py",
   "mimetype": "text/x-python",
   "name": "python",
   "nbconvert_exporter": "python",
   "pygments_lexer": "ipython3",
   "version": "3.7.6"
  }
 },
 "nbformat": 4,
 "nbformat_minor": 4
}
