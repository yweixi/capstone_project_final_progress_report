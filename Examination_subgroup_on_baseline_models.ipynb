{
  "nbformat": 4,
  "nbformat_minor": 0,
  "metadata": {
    "colab": {
      "name": "Examination subgroup on baseline models.ipynb",
      "provenance": [],
      "collapsed_sections": [],
      "toc_visible": true
    },
    "kernelspec": {
      "name": "python3",
      "display_name": "Python 3"
    }
  },
  "cells": [
    {
      "cell_type": "code",
      "metadata": {
        "colab": {
          "base_uri": "https://localhost:8080/"
        },
        "id": "AtxHr9R8hFLF",
        "outputId": "c44ecdc9-d22d-4063-97be-6e47317debf3"
      },
      "source": [
        "!pip install shap"
      ],
      "execution_count": null,
      "outputs": [
        {
          "output_type": "stream",
          "text": [
            "Requirement already satisfied: shap in /usr/local/lib/python3.6/dist-packages (0.37.0)\n",
            "Requirement already satisfied: tqdm>4.25.0 in /usr/local/lib/python3.6/dist-packages (from shap) (4.41.1)\n",
            "Requirement already satisfied: scipy in /usr/local/lib/python3.6/dist-packages (from shap) (1.4.1)\n",
            "Requirement already satisfied: scikit-learn in /usr/local/lib/python3.6/dist-packages (from shap) (0.22.2.post1)\n",
            "Requirement already satisfied: numpy in /usr/local/lib/python3.6/dist-packages (from shap) (1.18.5)\n",
            "Requirement already satisfied: pandas in /usr/local/lib/python3.6/dist-packages (from shap) (1.1.4)\n",
            "Requirement already satisfied: numba in /usr/local/lib/python3.6/dist-packages (from shap) (0.48.0)\n",
            "Requirement already satisfied: slicer==0.0.3 in /usr/local/lib/python3.6/dist-packages (from shap) (0.0.3)\n",
            "Requirement already satisfied: joblib>=0.11 in /usr/local/lib/python3.6/dist-packages (from scikit-learn->shap) (0.17.0)\n",
            "Requirement already satisfied: python-dateutil>=2.7.3 in /usr/local/lib/python3.6/dist-packages (from pandas->shap) (2.8.1)\n",
            "Requirement already satisfied: pytz>=2017.2 in /usr/local/lib/python3.6/dist-packages (from pandas->shap) (2018.9)\n",
            "Requirement already satisfied: setuptools in /usr/local/lib/python3.6/dist-packages (from numba->shap) (50.3.2)\n",
            "Requirement already satisfied: llvmlite<0.32.0,>=0.31.0dev0 in /usr/local/lib/python3.6/dist-packages (from numba->shap) (0.31.0)\n",
            "Requirement already satisfied: six>=1.5 in /usr/local/lib/python3.6/dist-packages (from python-dateutil>=2.7.3->pandas->shap) (1.15.0)\n"
          ],
          "name": "stdout"
        }
      ]
    },
    {
      "cell_type": "code",
      "metadata": {
        "id": "JQT9h5kk7iIG"
      },
      "source": [
        "import pandas as pd\n",
        "import numpy as np\n",
        "from sklearn.model_selection import train_test_split\n",
        "from sklearn.feature_selection import f_regression, f_classif\n",
        "from imblearn.over_sampling import RandomOverSampler\n",
        "import xgboost\n",
        "from sklearn.ensemble import RandomForestClassifier\n",
        "import shap\n",
        "from sklearn.linear_model import Ridge\n",
        "from sklearn.tree import DecisionTreeClassifier, DecisionTreeRegressor\n",
        "from sklearn.model_selection import KFold\n",
        "from sklearn.feature_selection import RFECV"
      ],
      "execution_count": null,
      "outputs": []
    },
    {
      "cell_type": "code",
      "metadata": {
        "id": "m-nMgVD78GMS"
      },
      "source": [
        "data = pd.read_excel('1-s2.0-S2352340918305092-mmc2.xlsx', sheet_name = 'Dataset with Generated Features')\n",
        "# data = pd.read_excel('augmented sample.xlsx')\n",
        "data_composition = pd.read_excel('1-s2.0-S2352340918305092-mmc2.xlsx', sheet_name = 'DFT Calculated Dataset')"
      ],
      "execution_count": null,
      "outputs": []
    },
    {
      "cell_type": "code",
      "metadata": {
        "id": "XdvYvSwrg1jC"
      },
      "source": [
        "#data = pd.read_excel('augmented sample.xlsx')"
      ],
      "execution_count": null,
      "outputs": []
    },
    {
      "cell_type": "code",
      "metadata": {
        "id": "oSTnmQDe8QV0"
      },
      "source": [
        "data_join = data_composition.merge(data, 'inner', on='Material Composition')"
      ],
      "execution_count": null,
      "outputs": []
    },
    {
      "cell_type": "code",
      "metadata": {
        "id": "osV6lqh28RfL",
        "colab": {
          "base_uri": "https://localhost:8080/",
          "height": 239
        },
        "outputId": "17737318-03a2-4408-d789-2b429c552dec"
      },
      "source": [
        "data_join.head(3)"
      ],
      "execution_count": null,
      "outputs": [
        {
          "output_type": "execute_result",
          "data": {
            "text/html": [
              "<div>\n",
              "<style scoped>\n",
              "    .dataframe tbody tr th:only-of-type {\n",
              "        vertical-align: middle;\n",
              "    }\n",
              "\n",
              "    .dataframe tbody tr th {\n",
              "        vertical-align: top;\n",
              "    }\n",
              "\n",
              "    .dataframe thead th {\n",
              "        text-align: right;\n",
              "    }\n",
              "</style>\n",
              "<table border=\"1\" class=\"dataframe\">\n",
              "  <thead>\n",
              "    <tr style=\"text-align: right;\">\n",
              "      <th></th>\n",
              "      <th>Material Composition</th>\n",
              "      <th>A site #1</th>\n",
              "      <th>A site #2</th>\n",
              "      <th>A site #3</th>\n",
              "      <th>B site #1</th>\n",
              "      <th>B site #2</th>\n",
              "      <th>B site #3</th>\n",
              "      <th>X site</th>\n",
              "      <th>Number of elements</th>\n",
              "      <th>energy_above_hull (meV/atom)</th>\n",
              "      <th>formation_energy (eV/atom)</th>\n",
              "      <th>index</th>\n",
              "      <th>goldschmidt_TF</th>\n",
              "      <th>goldschmidt_TF_ionic</th>\n",
              "      <th>octahedral_factor</th>\n",
              "      <th>octahedral_factor_ionic</th>\n",
              "      <th>A_O</th>\n",
              "      <th>B_O</th>\n",
              "      <th>A_B</th>\n",
              "      <th>num_of_atoms_host_Asite0</th>\n",
              "      <th>shannon_radii_host_Asite0</th>\n",
              "      <th>host_Asite0_Ionic Radius (angstroms)</th>\n",
              "      <th>host_Asite0_Modulus of Elasticity 10³ Mpa</th>\n",
              "      <th>host_Asite0_ BP (K)</th>\n",
              "      <th>host_Asite0_MP (K)</th>\n",
              "      <th>host_Asite0_Density</th>\n",
              "      <th>host_Asite0_at. wt.</th>\n",
              "      <th>host_Asite0_BCCefflatcnt</th>\n",
              "      <th>host_Asite0_BCCenergy_pa</th>\n",
              "      <th>host_Asite0_BCCenergydiff</th>\n",
              "      <th>host_Asite0_BCCfermi</th>\n",
              "      <th>host_Asite0_BCCmagmom</th>\n",
              "      <th>host_Asite0_BCCvolume_pa</th>\n",
              "      <th>host_Asite0_BCCvolume_padiff</th>\n",
              "      <th>host_Asite0_GSbandgap</th>\n",
              "      <th>host_Asite0_GSefflatcnt</th>\n",
              "      <th>host_Asite0_GSenergy_pa</th>\n",
              "      <th>host_Asite0_GSmagmom</th>\n",
              "      <th>host_Asite0_GSvolume_pa</th>\n",
              "      <th>host_Asite0_HHIp</th>\n",
              "      <th>...</th>\n",
              "      <th>Bsite_IsBCC_range</th>\n",
              "      <th>Bsite_IsCubic_range</th>\n",
              "      <th>Bsite_IsFCC_range</th>\n",
              "      <th>Bsite_IsOrthorhombic_range</th>\n",
              "      <th>Bsite_IsRhombohedral_range</th>\n",
              "      <th>Bsite_IsMonoclinic_range</th>\n",
              "      <th>Bsite_IsTetragonal_range</th>\n",
              "      <th>Bsite_IsAlkali_range</th>\n",
              "      <th>Bsite_IsAlkalineEarth_range</th>\n",
              "      <th>Bsite_IsBoron_range</th>\n",
              "      <th>Bsite_IsCarbon_range</th>\n",
              "      <th>Bsite_IsChalcogen_range</th>\n",
              "      <th>Bsite_IsHalogen_range</th>\n",
              "      <th>Bsite_IsHydrogen_range</th>\n",
              "      <th>Bsite_IsNoblegas_range</th>\n",
              "      <th>Bsite_IsPnictide_range</th>\n",
              "      <th>Bsite_IsRareEarth_range</th>\n",
              "      <th>Bsite_IsTransition Metal_range</th>\n",
              "      <th>Bsite_OrbitalS_range</th>\n",
              "      <th>Bsite_OrbitalP_range</th>\n",
              "      <th>Bsite_OrbitalD_range</th>\n",
              "      <th>Bsite_OrbitalF_range</th>\n",
              "      <th>Bsite_Most stable oxidation State_range</th>\n",
              "      <th>Bsite_IsAlkali_range.1</th>\n",
              "      <th>Bsite_IsDBlock_range</th>\n",
              "      <th>Bsite_IsFBlock_range</th>\n",
              "      <th>Bsite_IsMetal_range</th>\n",
              "      <th>Bsite_IsMetalloid_range</th>\n",
              "      <th>Bsite_IsNonmetal_range</th>\n",
              "      <th>Bsite_NdUnfilled_range</th>\n",
              "      <th>Bsite_NdValence_range</th>\n",
              "      <th>Bsite_NfUnfilled_range</th>\n",
              "      <th>Bsite_NfValence_range</th>\n",
              "      <th>Bsite_NpUnfilled_range</th>\n",
              "      <th>Bsite_NpValence_range</th>\n",
              "      <th>Bsite_NsUnfilled_range</th>\n",
              "      <th>Bsite_NsValence_range</th>\n",
              "      <th>Bsite_NUnfilled_range</th>\n",
              "      <th>EnergyAboveHull</th>\n",
              "      <th>Formation_energy</th>\n",
              "    </tr>\n",
              "  </thead>\n",
              "  <tbody>\n",
              "    <tr>\n",
              "      <th>0</th>\n",
              "      <td>Ba1Sr7V8O24</td>\n",
              "      <td>Ba</td>\n",
              "      <td>Sr</td>\n",
              "      <td>NaN</td>\n",
              "      <td>V</td>\n",
              "      <td>NaN</td>\n",
              "      <td>NaN</td>\n",
              "      <td>O</td>\n",
              "      <td>4</td>\n",
              "      <td>29.747707</td>\n",
              "      <td>-2.113335</td>\n",
              "      <td>1</td>\n",
              "      <td>1.021823</td>\n",
              "      <td>0.976828</td>\n",
              "      <td>0.414286</td>\n",
              "      <td>0.385714</td>\n",
              "      <td>2.86125</td>\n",
              "      <td>1.980</td>\n",
              "      <td>2.04125</td>\n",
              "      <td>7</td>\n",
              "      <td>1.44</td>\n",
              "      <td>1.26</td>\n",
              "      <td>15.0</td>\n",
              "      <td>1655</td>\n",
              "      <td>1042.0</td>\n",
              "      <td>2.54</td>\n",
              "      <td>87.6200</td>\n",
              "      <td>9.459886</td>\n",
              "      <td>-1.677940</td>\n",
              "      <td>0.004874</td>\n",
              "      <td>1.710570</td>\n",
              "      <td>0.0</td>\n",
              "      <td>52.91</td>\n",
              "      <td>-1.320</td>\n",
              "      <td>0</td>\n",
              "      <td>9.537909</td>\n",
              "      <td>-1.682814</td>\n",
              "      <td>0</td>\n",
              "      <td>54.230</td>\n",
              "      <td>420</td>\n",
              "      <td>...</td>\n",
              "      <td>0</td>\n",
              "      <td>0</td>\n",
              "      <td>0</td>\n",
              "      <td>0</td>\n",
              "      <td>0</td>\n",
              "      <td>0</td>\n",
              "      <td>0</td>\n",
              "      <td>0</td>\n",
              "      <td>0</td>\n",
              "      <td>0</td>\n",
              "      <td>0</td>\n",
              "      <td>0</td>\n",
              "      <td>0</td>\n",
              "      <td>0</td>\n",
              "      <td>0</td>\n",
              "      <td>0</td>\n",
              "      <td>0</td>\n",
              "      <td>0</td>\n",
              "      <td>0</td>\n",
              "      <td>0</td>\n",
              "      <td>0</td>\n",
              "      <td>0</td>\n",
              "      <td>0</td>\n",
              "      <td>0</td>\n",
              "      <td>0</td>\n",
              "      <td>0</td>\n",
              "      <td>0</td>\n",
              "      <td>0</td>\n",
              "      <td>0</td>\n",
              "      <td>0</td>\n",
              "      <td>0</td>\n",
              "      <td>0</td>\n",
              "      <td>0</td>\n",
              "      <td>0</td>\n",
              "      <td>0</td>\n",
              "      <td>0</td>\n",
              "      <td>0</td>\n",
              "      <td>0</td>\n",
              "      <td>29.747707</td>\n",
              "      <td>-2.113335</td>\n",
              "    </tr>\n",
              "    <tr>\n",
              "      <th>1</th>\n",
              "      <td>Ba2Bi2Pr4Co8O24</td>\n",
              "      <td>Ba</td>\n",
              "      <td>Bi</td>\n",
              "      <td>Pr</td>\n",
              "      <td>Co</td>\n",
              "      <td>NaN</td>\n",
              "      <td>NaN</td>\n",
              "      <td>O</td>\n",
              "      <td>5</td>\n",
              "      <td>106.702335</td>\n",
              "      <td>-1.311863</td>\n",
              "      <td>2</td>\n",
              "      <td>0.987385</td>\n",
              "      <td>0.889057</td>\n",
              "      <td>0.378571</td>\n",
              "      <td>0.464286</td>\n",
              "      <td>2.69500</td>\n",
              "      <td>1.930</td>\n",
              "      <td>1.82500</td>\n",
              "      <td>4</td>\n",
              "      <td>1.20</td>\n",
              "      <td>1.13</td>\n",
              "      <td>50.0</td>\n",
              "      <td>3785</td>\n",
              "      <td>1204.0</td>\n",
              "      <td>6.77</td>\n",
              "      <td>140.9077</td>\n",
              "      <td>8.311852</td>\n",
              "      <td>-4.648540</td>\n",
              "      <td>0.125290</td>\n",
              "      <td>3.592024</td>\n",
              "      <td>0.0</td>\n",
              "      <td>35.89</td>\n",
              "      <td>0.215</td>\n",
              "      <td>0</td>\n",
              "      <td>8.295222</td>\n",
              "      <td>-4.773830</td>\n",
              "      <td>0</td>\n",
              "      <td>35.675</td>\n",
              "      <td>950</td>\n",
              "      <td>...</td>\n",
              "      <td>0</td>\n",
              "      <td>0</td>\n",
              "      <td>0</td>\n",
              "      <td>0</td>\n",
              "      <td>0</td>\n",
              "      <td>0</td>\n",
              "      <td>0</td>\n",
              "      <td>0</td>\n",
              "      <td>0</td>\n",
              "      <td>0</td>\n",
              "      <td>0</td>\n",
              "      <td>0</td>\n",
              "      <td>0</td>\n",
              "      <td>0</td>\n",
              "      <td>0</td>\n",
              "      <td>0</td>\n",
              "      <td>0</td>\n",
              "      <td>0</td>\n",
              "      <td>0</td>\n",
              "      <td>0</td>\n",
              "      <td>0</td>\n",
              "      <td>0</td>\n",
              "      <td>0</td>\n",
              "      <td>0</td>\n",
              "      <td>0</td>\n",
              "      <td>0</td>\n",
              "      <td>0</td>\n",
              "      <td>0</td>\n",
              "      <td>0</td>\n",
              "      <td>0</td>\n",
              "      <td>0</td>\n",
              "      <td>0</td>\n",
              "      <td>0</td>\n",
              "      <td>0</td>\n",
              "      <td>0</td>\n",
              "      <td>0</td>\n",
              "      <td>0</td>\n",
              "      <td>0</td>\n",
              "      <td>106.702335</td>\n",
              "      <td>-1.311863</td>\n",
              "    </tr>\n",
              "    <tr>\n",
              "      <th>2</th>\n",
              "      <td>Ba2Ca6Fe8O24</td>\n",
              "      <td>Ba</td>\n",
              "      <td>Ca</td>\n",
              "      <td>NaN</td>\n",
              "      <td>Fe</td>\n",
              "      <td>NaN</td>\n",
              "      <td>NaN</td>\n",
              "      <td>O</td>\n",
              "      <td>4</td>\n",
              "      <td>171.608093</td>\n",
              "      <td>-1.435607</td>\n",
              "      <td>3</td>\n",
              "      <td>0.976009</td>\n",
              "      <td>0.908360</td>\n",
              "      <td>0.452857</td>\n",
              "      <td>0.392857</td>\n",
              "      <td>2.80750</td>\n",
              "      <td>2.034</td>\n",
              "      <td>2.04150</td>\n",
              "      <td>6</td>\n",
              "      <td>1.34</td>\n",
              "      <td>1.00</td>\n",
              "      <td>21.0</td>\n",
              "      <td>1757</td>\n",
              "      <td>1112.0</td>\n",
              "      <td>1.55</td>\n",
              "      <td>40.0780</td>\n",
              "      <td>8.383035</td>\n",
              "      <td>-1.927259</td>\n",
              "      <td>0.021070</td>\n",
              "      <td>2.895424</td>\n",
              "      <td>0.0</td>\n",
              "      <td>36.82</td>\n",
              "      <td>-0.950</td>\n",
              "      <td>0</td>\n",
              "      <td>8.454521</td>\n",
              "      <td>-1.948330</td>\n",
              "      <td>0</td>\n",
              "      <td>37.770</td>\n",
              "      <td>390</td>\n",
              "      <td>...</td>\n",
              "      <td>0</td>\n",
              "      <td>0</td>\n",
              "      <td>0</td>\n",
              "      <td>0</td>\n",
              "      <td>0</td>\n",
              "      <td>0</td>\n",
              "      <td>0</td>\n",
              "      <td>0</td>\n",
              "      <td>0</td>\n",
              "      <td>0</td>\n",
              "      <td>0</td>\n",
              "      <td>0</td>\n",
              "      <td>0</td>\n",
              "      <td>0</td>\n",
              "      <td>0</td>\n",
              "      <td>0</td>\n",
              "      <td>0</td>\n",
              "      <td>0</td>\n",
              "      <td>0</td>\n",
              "      <td>0</td>\n",
              "      <td>0</td>\n",
              "      <td>0</td>\n",
              "      <td>0</td>\n",
              "      <td>0</td>\n",
              "      <td>0</td>\n",
              "      <td>0</td>\n",
              "      <td>0</td>\n",
              "      <td>0</td>\n",
              "      <td>0</td>\n",
              "      <td>0</td>\n",
              "      <td>0</td>\n",
              "      <td>0</td>\n",
              "      <td>0</td>\n",
              "      <td>0</td>\n",
              "      <td>0</td>\n",
              "      <td>0</td>\n",
              "      <td>0</td>\n",
              "      <td>0</td>\n",
              "      <td>171.608093</td>\n",
              "      <td>-1.435607</td>\n",
              "    </tr>\n",
              "  </tbody>\n",
              "</table>\n",
              "<p>3 rows × 976 columns</p>\n",
              "</div>"
            ],
            "text/plain": [
              "  Material Composition A site #1  ... EnergyAboveHull Formation_energy\n",
              "0          Ba1Sr7V8O24        Ba  ...       29.747707        -2.113335\n",
              "1      Ba2Bi2Pr4Co8O24        Ba  ...      106.702335        -1.311863\n",
              "2         Ba2Ca6Fe8O24        Ba  ...      171.608093        -1.435607\n",
              "\n",
              "[3 rows x 976 columns]"
            ]
          },
          "metadata": {
            "tags": []
          },
          "execution_count": 85
        }
      ]
    },
    {
      "cell_type": "code",
      "metadata": {
        "colab": {
          "base_uri": "https://localhost:8080/"
        },
        "id": "tOc_Mz6Y-8YP",
        "outputId": "fe15936f-689b-4806-f6b3-78dd481786f3"
      },
      "source": [
        "len(data)"
      ],
      "execution_count": null,
      "outputs": [
        {
          "output_type": "execute_result",
          "data": {
            "text/plain": [
              "1929"
            ]
          },
          "metadata": {
            "tags": []
          },
          "execution_count": 86
        }
      ]
    },
    {
      "cell_type": "code",
      "metadata": {
        "id": "MGJ_lUPb8T4N",
        "colab": {
          "base_uri": "https://localhost:8080/"
        },
        "outputId": "c4dada34-f7dd-4aa4-a808-037164e6d3b4"
      },
      "source": [
        "features_full = data.drop(['index', 'Material Composition', 'EnergyAboveHull', 'Formation_energy'],axis=1)\n",
        "target_value = data[['EnergyAboveHull']]\n",
        "target_class = data[['EnergyAboveHull']]\n",
        "target_class[target_class <= 40] = 1\n",
        "target_class[target_class > 40] = 0"
      ],
      "execution_count": null,
      "outputs": [
        {
          "output_type": "stream",
          "text": [
            "\n",
            "A value is trying to be set on a copy of a slice from a DataFrame.\n",
            "Try using .loc[row_indexer,col_indexer] = value instead\n",
            "\n",
            "See the caveats in the documentation: https://pandas.pydata.org/pandas-docs/stable/user_guide/indexing.html#returning-a-view-versus-a-copy\n",
            "\n",
            "A value is trying to be set on a copy of a slice from a DataFrame\n",
            "\n",
            "See the caveats in the documentation: https://pandas.pydata.org/pandas-docs/stable/user_guide/indexing.html#returning-a-view-versus-a-copy\n",
            "\n",
            "A value is trying to be set on a copy of a slice from a DataFrame.\n",
            "Try using .loc[row_indexer,col_indexer] = value instead\n",
            "\n",
            "See the caveats in the documentation: https://pandas.pydata.org/pandas-docs/stable/user_guide/indexing.html#returning-a-view-versus-a-copy\n",
            "\n",
            "A value is trying to be set on a copy of a slice from a DataFrame\n",
            "\n",
            "See the caveats in the documentation: https://pandas.pydata.org/pandas-docs/stable/user_guide/indexing.html#returning-a-view-versus-a-copy\n"
          ],
          "name": "stderr"
        }
      ]
    },
    {
      "cell_type": "markdown",
      "metadata": {
        "id": "CsI4uLkD-TI6"
      },
      "source": [
        "### 1. Feature Selection"
      ]
    },
    {
      "cell_type": "markdown",
      "metadata": {
        "id": "Fr5jOFGH-WFd"
      },
      "source": [
        "#### (1) Drop constant features"
      ]
    },
    {
      "cell_type": "code",
      "metadata": {
        "id": "WyhaOj_v8VGt"
      },
      "source": [
        "number_of_unique = features_full.nunique(axis = 0)\n",
        "stat = pd.DataFrame(number_of_unique, columns=['number_of_uniques'])\n",
        "\n",
        "const_var = stat.iloc[np.where(stat['number_of_uniques']==1)[0], :].index\n",
        "feature_wo_const = features_full.drop(const_var, axis = 1)"
      ],
      "execution_count": null,
      "outputs": []
    },
    {
      "cell_type": "code",
      "metadata": {
        "id": "vUF7ZGJCj__D"
      },
      "source": [
        "X_train, X_test, class_train, class_test = train_test_split(feature_wo_const, target_class, test_size=0.3, random_state=42)\n",
        "X_train, X_test, value_train, value_test = train_test_split(feature_wo_const, target_value, test_size=0.3, random_state=42)"
      ],
      "execution_count": null,
      "outputs": []
    },
    {
      "cell_type": "markdown",
      "metadata": {
        "id": "G5N8QDKA-6_r"
      },
      "source": [
        "#### (2) Univariate Statistic"
      ]
    },
    {
      "cell_type": "code",
      "metadata": {
        "id": "7TL0rbx8_FIb",
        "colab": {
          "base_uri": "https://localhost:8080/"
        },
        "outputId": "e905aa27-da37-4b81-ad0c-16957bf1407a"
      },
      "source": [
        "def uncorr_features(X_train, y_train, threshold_of_p_value, for_regression=True):\n",
        "    # Params:\n",
        "    #        X_train: dataframe\n",
        "    #        y_train: dataframe\n",
        "    #        threshold_of_p_value: float, range(0.0, 1.0)\n",
        "    \n",
        "    # Return: \n",
        "    #        list of features that should be removed\n",
        "    if for_regression:\n",
        "        f_value, p_value = f_regression(X_train, y_train, center=True)\n",
        "    else:\n",
        "        f_value, p_value = f_classif(X_train, y_train)\n",
        "    uni_FR = pd.DataFrame(np.concatenate([f_value.reshape(-1,1), p_value.reshape(-1,1)], axis=1), \n",
        "                      columns = ['f_value', 'p_value'], \n",
        "                      index = X_train.columns.tolist())\n",
        "    #boxplot = uni_FR.boxplot(column=['p_value'],return_type=None)\n",
        "    features_removed = uni_FR[uni_FR['p_value']>threshold_of_p_value].index\n",
        "    return features_removed.tolist()\n",
        "features_uni_value = uncorr_features(X_train, value_train, 0.1, for_regression=True)\n",
        "features_uni_class = uncorr_features(X_train, class_train, 0.05, for_regression=False)\n",
        "\n",
        "X_train_uni_value = X_train.drop(features_uni_value, axis = 1)\n",
        "X_train_uni_class = X_train.drop(features_uni_class, axis = 1)"
      ],
      "execution_count": null,
      "outputs": [
        {
          "output_type": "stream",
          "text": [
            "A column-vector y was passed when a 1d array was expected. Please change the shape of y to (n_samples, ), for example using ravel().\n",
            "A column-vector y was passed when a 1d array was expected. Please change the shape of y to (n_samples, ), for example using ravel().\n"
          ],
          "name": "stderr"
        }
      ]
    },
    {
      "cell_type": "code",
      "metadata": {
        "id": "2_51gpPJO3fy",
        "colab": {
          "base_uri": "https://localhost:8080/"
        },
        "outputId": "89b548a7-caa6-4ac8-e3a9-0801ae937dd7"
      },
      "source": [
        "print(X_train_uni_value.shape, X_train_uni_class.shape)"
      ],
      "execution_count": null,
      "outputs": [
        {
          "output_type": "stream",
          "text": [
            "(1350, 681) (1350, 621)\n"
          ],
          "name": "stdout"
        }
      ]
    },
    {
      "cell_type": "markdown",
      "metadata": {
        "id": "8AwLb3ny_c6f"
      },
      "source": [
        "#### (3) SHAP"
      ]
    },
    {
      "cell_type": "code",
      "metadata": {
        "id": "7Q9Z1Ksa_fHZ",
        "colab": {
          "base_uri": "https://localhost:8080/"
        },
        "outputId": "c785495c-d22e-4fe7-e536-1d65fc5c087f"
      },
      "source": [
        "#shap.initjs()\n",
        "\n",
        "# For classification\n",
        "random_forest = RandomForestClassifier(random_state = 42)\n",
        "random_forest.fit(X_train_uni_class, class_train['EnergyAboveHull'].ravel())\n",
        "\n",
        "explainer = shap.TreeExplainer(random_forest)\n",
        "shap_values = explainer.shap_values(X_train_uni_class) #num of class * num of rows* num of features\n",
        "\n",
        "shap_value_mean = np.sum(np.abs(shap_values[0]), axis = 0)/len(shap_values[0]) + np.sum(np.abs(shap_values[1]), axis = 0)/len(shap_values[1])\n",
        "shap_value_df = pd.DataFrame(shap_value_mean, index= X_train_uni_class.columns.tolist(), columns=['mean_shap_value'])\n",
        "shap_value_df.sort_values(by=['mean_shap_value'], ascending=False)\n",
        "\n",
        "features_shap_class = shap_value_df[shap_value_df['mean_shap_value']<=shap_value_df.quantile(0.75)[0]].index.tolist()\n",
        "\n",
        "# For regression\n",
        "\n",
        "Linear_Ridge = Ridge(random_state=42)\n",
        "Linear_Ridge.fit(X_train_uni_value, value_train)\n",
        "\n",
        "explainer_Ridge = shap.LinearExplainer(Linear_Ridge, X_train_uni_value, feature_perturbation=\"interventional\")\n",
        "shap_values_Ridge = explainer_Ridge.shap_values(X_train_uni_value) #num of class * num of rows* num of features\n",
        "\n",
        "shap_value_mean_linear = np.sum(np.abs(shap_values_Ridge), axis = 0)/len(shap_values_Ridge)\n",
        "shap_value_df_linear = pd.DataFrame(shap_value_mean_linear, index= X_train_uni_value.columns.tolist(), columns=['mean_shap_value'])\n",
        "shap_value_df_linear.sort_values(by=['mean_shap_value'], ascending=False)\n",
        "\n",
        "features_shap_value = shap_value_df_linear[shap_value_df_linear['mean_shap_value']<=shap_value_df_linear.quantile(0.75)[0]].index.tolist()\n",
        "\n",
        "X_train_3_value = X_train_uni_value.drop(features_shap_value, axis = 1)\n",
        "X_train_3_calss = X_train_uni_class.drop(features_shap_class, axis = 1)"
      ],
      "execution_count": null,
      "outputs": [
        {
          "output_type": "stream",
          "text": [
            "The feature_perturbation option is now deprecated in favor of using the appropriate masker (maskers.Independent, or maskers.Impute)\n"
          ],
          "name": "stderr"
        }
      ]
    },
    {
      "cell_type": "code",
      "metadata": {
        "id": "xrnOexXtO_XJ",
        "colab": {
          "base_uri": "https://localhost:8080/"
        },
        "outputId": "5ff800da-c04e-4670-dd64-ea609cf2b5a2"
      },
      "source": [
        "print(X_train_3_calss.shape, X_train_3_value.shape)"
      ],
      "execution_count": null,
      "outputs": [
        {
          "output_type": "stream",
          "text": [
            "(1350, 155) (1350, 170)\n"
          ],
          "name": "stdout"
        }
      ]
    },
    {
      "cell_type": "markdown",
      "metadata": {
        "id": "y9Hj3MgfAMz2"
      },
      "source": [
        "#### (4) RFE"
      ]
    },
    {
      "cell_type": "code",
      "metadata": {
        "id": "G79ZQ7idAOQv"
      },
      "source": [
        "decision_tree_classif = DecisionTreeClassifier(random_state=42)\n",
        "rfecv_DTC = RFECV(estimator=decision_tree_classif, cv=KFold(n_splits = 5, random_state = 42, shuffle = True), scoring='f1', n_jobs = 4)\n",
        "rfecv_DTC.fit(X_train_3_calss, class_train['EnergyAboveHull'].ravel())\n",
        "\n",
        "features_selected = X_train_3_calss.columns[rfecv_DTC.support_].tolist()\n",
        "\n",
        "X_train_4_class = X_train_3_calss[features_selected]"
      ],
      "execution_count": null,
      "outputs": []
    },
    {
      "cell_type": "code",
      "metadata": {
        "id": "VJNrCe8GBgRT"
      },
      "source": [
        "decision_tree_reg = DecisionTreeRegressor(random_state=42)\n",
        "rfecv_DTR = RFECV(estimator=decision_tree_reg, cv=KFold(n_splits = 5, random_state = 42, shuffle = True), scoring='r2', n_jobs = 4)\n",
        "\n",
        "rfecv_DTR.fit(X_train_3_value, value_train['EnergyAboveHull'].ravel())\n",
        "features_selected_value = X_train_3_value.columns[rfecv_DTR.support_].tolist()\n",
        "X_train_4_value = X_train_3_value[features_selected_value]"
      ],
      "execution_count": null,
      "outputs": []
    },
    {
      "cell_type": "code",
      "metadata": {
        "id": "xCjFvvk1B2fT",
        "colab": {
          "base_uri": "https://localhost:8080/"
        },
        "outputId": "aa0bd81c-b2d9-4630-944b-a0aa24ccc634"
      },
      "source": [
        "print(X_train_4_class.shape, X_train_4_value.shape)"
      ],
      "execution_count": null,
      "outputs": [
        {
          "output_type": "stream",
          "text": [
            "(1350, 87) (1350, 24)\n"
          ],
          "name": "stdout"
        }
      ]
    },
    {
      "cell_type": "markdown",
      "metadata": {
        "id": "57Sbyp8V8g-m"
      },
      "source": [
        "### 2. Baseline models"
      ]
    },
    {
      "cell_type": "markdown",
      "metadata": {
        "id": "xhJB2suGTz_X"
      },
      "source": [
        "#### 2.1 SVM"
      ]
    },
    {
      "cell_type": "markdown",
      "metadata": {
        "id": "4r4YTchFv3zA"
      },
      "source": [
        "##### (1) Regression"
      ]
    },
    {
      "cell_type": "code",
      "metadata": {
        "id": "Fz7DFkXoXv32",
        "colab": {
          "base_uri": "https://localhost:8080/"
        },
        "outputId": "5968cb32-f385-4282-8508-ec6226f7b7e5"
      },
      "source": [
        "from sklearn.svm import SVR\n",
        "import numpy as np\n",
        "from sklearn.svm import SVC\n",
        "from sklearn.linear_model import SGDClassifier\n",
        "from sklearn.preprocessing import StandardScaler\n",
        "from sklearn.pipeline import make_pipeline\n",
        "from sklearn.model_selection import cross_val_score, cross_validate, GridSearchCV, KFold, StratifiedKFold\n",
        "from sklearn.metrics import make_scorer\n",
        "from sklearn.metrics import accuracy_score, precision_score, f1_score, recall_score, r2_score, mean_absolute_error, mean_squared_error\n",
        "\n",
        "SVReg = make_pipeline(StandardScaler(), SVR())\n",
        "param_grid_svr = {'svr__C': range(2230, 2270, 10)}\n",
        "\n",
        "scoring_reg = {'R2': make_scorer(r2_score),  \n",
        "           'MAE':make_scorer(mean_absolute_error),\n",
        "           'MSE': make_scorer(mean_squared_error)}\n",
        "\n",
        "grid_svr = GridSearchCV(SVReg, param_grid_svr, cv=KFold(5), return_train_score=True, scoring=scoring_reg, refit = 'R2')\n",
        "grid_svr.fit(X_train_4_value, value_train.values.ravel())\n",
        "grid_svr.score(X_test[features_selected_value], value_test)"
      ],
      "execution_count": null,
      "outputs": [
        {
          "output_type": "execute_result",
          "data": {
            "text/plain": [
              "0.6719511375183997"
            ]
          },
          "metadata": {
            "tags": []
          },
          "execution_count": 24
        }
      ]
    },
    {
      "cell_type": "code",
      "metadata": {
        "id": "UImbhRUNYlxK",
        "colab": {
          "base_uri": "https://localhost:8080/"
        },
        "outputId": "81ed27a6-6bc7-4e3f-c946-25ea31d44a99"
      },
      "source": [
        "grid_svr.best_params_"
      ],
      "execution_count": null,
      "outputs": [
        {
          "output_type": "execute_result",
          "data": {
            "text/plain": [
              "{'svr__C': 2260}"
            ]
          },
          "metadata": {
            "tags": []
          },
          "execution_count": 147
        }
      ]
    },
    {
      "cell_type": "code",
      "metadata": {
        "id": "fBN8H9sXYOy5",
        "colab": {
          "base_uri": "https://localhost:8080/"
        },
        "outputId": "7a81c85b-1a56-4884-a1ec-6f608b92e6ca"
      },
      "source": [
        "value_test_predicted_svr = grid_svr.predict(X_test[features_selected_value])\n",
        "print(r2_score(value_test, value_test_predicted_svr))\n",
        "print(mean_absolute_error(value_test, value_test_predicted_svr))\n",
        "print(np.sqrt(mean_squared_error(value_test, value_test_predicted_svr)))"
      ],
      "execution_count": null,
      "outputs": [
        {
          "output_type": "stream",
          "text": [
            "0.7097145804324829\n",
            "19.097498614254615\n",
            "53.60122548505004\n"
          ],
          "name": "stdout"
        }
      ]
    },
    {
      "cell_type": "code",
      "metadata": {
        "colab": {
          "base_uri": "https://localhost:8080/"
        },
        "id": "6_35yM60kCuD",
        "outputId": "bdca7f1f-7d9f-468f-c9e9-d373e113d9eb"
      },
      "source": [
        "#aug\n",
        "value_test_predicted_svr = grid_svr.predict(X_test[features_selected_value])\n",
        "print(r2_score(value_test, value_test_predicted_svr))\n",
        "print(mean_absolute_error(value_test, value_test_predicted_svr))\n",
        "print(np.sqrt(mean_squared_error(value_test, value_test_predicted_svr)))"
      ],
      "execution_count": null,
      "outputs": [
        {
          "output_type": "stream",
          "text": [
            "0.6719511375183997\n",
            "21.203593877554553\n",
            "56.981171761353735\n"
          ],
          "name": "stdout"
        }
      ]
    },
    {
      "cell_type": "code",
      "metadata": {
        "id": "c4tZexUnv-sC",
        "colab": {
          "base_uri": "https://localhost:8080/"
        },
        "outputId": "27dac118-95d3-4ec2-bb8d-2132179aebe5"
      },
      "source": [
        "from sklearn.kernel_ridge import KernelRidge\n",
        "ridge_kernel = make_pipeline(StandardScaler(), KernelRidge(kernel = 'rbf'))\n",
        "param_grid_ridgeK = {'kernelridge__alpha': np.linspace(0.01, 0.3, 10)}\n",
        "\n",
        "grid_ridgeK = GridSearchCV(ridge_kernel, param_grid_ridgeK, cv=KFold(5), return_train_score=True, scoring=('neg_root_mean_squared_error'))\n",
        "grid_ridgeK.fit(X_train_4_value, value_train.values.ravel())\n",
        "grid_ridgeK.score(X_test[features_selected_value], value_test)\n",
        "value_test_predicted = grid_ridgeK.predict(X_test[features_selected_value])\n",
        "from sklearn.metrics import accuracy_score, precision_score, f1_score, recall_score, r2_score, mean_absolute_error, mean_squared_error\n",
        "print(r2_score(value_test, value_test_predicted))\n",
        "print(mean_absolute_error(value_test, value_test_predicted))\n",
        "print(np.sqrt(mean_squared_error(value_test, value_test_predicted)))\n"
      ],
      "execution_count": null,
      "outputs": [
        {
          "output_type": "execute_result",
          "data": {
            "text/plain": [
              "-59.76451270731608"
            ]
          },
          "metadata": {
            "tags": []
          },
          "execution_count": 96
        }
      ]
    },
    {
      "cell_type": "markdown",
      "metadata": {
        "id": "-IN7iVmavvO8"
      },
      "source": [
        "##### (2) Classification"
      ]
    },
    {
      "cell_type": "code",
      "metadata": {
        "id": "U5xl3dGR8gSP",
        "colab": {
          "base_uri": "https://localhost:8080/"
        },
        "outputId": "5427086f-0962-4bcf-ed76-01e55343fa32"
      },
      "source": [
        "import numpy as np\n",
        "from sklearn.svm import SVC\n",
        "from sklearn.linear_model import SGDClassifier\n",
        "from sklearn.preprocessing import StandardScaler\n",
        "from sklearn.pipeline import make_pipeline\n",
        "from sklearn.model_selection import cross_val_score, cross_validate, GridSearchCV, KFold\n",
        "from sklearn.metrics import make_scorer\n",
        "from sklearn.metrics import accuracy_score, precision_score, f1_score, recall_score, r2_score\n",
        "\n",
        "from sklearn.ensemble import GradientBoostingRegressor\n",
        "from sklearn.model_selection import train_test_split,ShuffleSplit\n",
        "from scipy.stats import uniform\n",
        "\n",
        "\n",
        "SVC = make_pipeline(StandardScaler(), SVC())\n",
        "param_grid_svc = {'svc__C': range(80, 95, 1)}\n",
        "\n",
        "scoring = {'F1': make_scorer(f1_score),\n",
        "           'Accuracy': make_scorer(accuracy_score),  \n",
        "           'Precision':make_scorer(precision_score),\n",
        "           'Recall': make_scorer(recall_score)}\n",
        "\n",
        "grid_svc = GridSearchCV(SVC, param_grid_svc, cv=KFold(5), return_train_score=True, scoring=scoring, refit = 'F1')\n",
        "grid_svc.fit(X_train_4_class, class_train.values.ravel())\n",
        "grid_svc.score(X_test[features_selected], class_test)"
      ],
      "execution_count": null,
      "outputs": [
        {
          "output_type": "execute_result",
          "data": {
            "text/plain": [
              "0.8646864686468646"
            ]
          },
          "metadata": {
            "tags": []
          },
          "execution_count": 160
        }
      ]
    },
    {
      "cell_type": "code",
      "metadata": {
        "colab": {
          "base_uri": "https://localhost:8080/"
        },
        "id": "NR-nGcVyKerB",
        "outputId": "92bf5a13-86d7-4356-b965-937c21f7c954"
      },
      "source": [
        "grid_svc.best_params_"
      ],
      "execution_count": null,
      "outputs": [
        {
          "output_type": "execute_result",
          "data": {
            "text/plain": [
              "{'svc__C': 81}"
            ]
          },
          "metadata": {
            "tags": []
          },
          "execution_count": 161
        }
      ]
    },
    {
      "cell_type": "code",
      "metadata": {
        "id": "jBWdx8gyOXld"
      },
      "source": [
        "class_test_predicted = grid_svc.predict(X_test[features_selected])"
      ],
      "execution_count": null,
      "outputs": []
    },
    {
      "cell_type": "code",
      "metadata": {
        "colab": {
          "base_uri": "https://localhost:8080/"
        },
        "id": "bRiGUrWVkx7G",
        "outputId": "78007457-21db-4e24-b6f1-770827d3db62"
      },
      "source": [
        "#aug\n",
        "print(f1_score(class_test, class_test_predicted, average = 'weighted'))\n",
        "print(accuracy_score(class_test, class_test_predicted))\n",
        "print(precision_score(class_test, class_test_predicted))\n",
        "print(recall_score(class_test, class_test_predicted))\n",
        "print(f1_score(class_test, class_test_predicted))"
      ],
      "execution_count": null,
      "outputs": [
        {
          "output_type": "stream",
          "text": [
            "0.9294145776726568\n",
            "0.9291882556131261\n",
            "0.8562091503267973\n",
            "0.8733333333333333\n",
            "0.8646864686468646\n"
          ],
          "name": "stdout"
        }
      ]
    },
    {
      "cell_type": "code",
      "metadata": {
        "id": "9GvPnq6fOHDC",
        "colab": {
          "base_uri": "https://localhost:8080/"
        },
        "outputId": "bc2b65d2-91bf-4e38-bae2-2a452a76665b"
      },
      "source": [
        "print(accuracy_score(class_test, class_test_predicted))\n",
        "print(precision_score(class_test, class_test_predicted))\n",
        "print(recall_score(class_test, class_test_predicted))\n",
        "print(f1_score(class_test, class_test_predicted))"
      ],
      "execution_count": null,
      "outputs": [
        {
          "output_type": "stream",
          "text": [
            "0.92573402417962\n",
            "0.8407643312101911\n",
            "0.88\n",
            "0.8599348534201954\n"
          ],
          "name": "stdout"
        }
      ]
    },
    {
      "cell_type": "markdown",
      "metadata": {
        "id": "h6xBdK9yrtka"
      },
      "source": [
        "##### (3) Evaluate on subgroup"
      ]
    },
    {
      "cell_type": "code",
      "metadata": {
        "id": "G6qtzT80MnW3"
      },
      "source": [
        "def evaluate_A_site(element):\n",
        "  # Evaluate on the subgroup of Ba in the A site\n",
        "  index_Ba = data_composition.index[np.logical_or(np.logical_or(data_composition['A site #1'] == element, data_composition['A site #2'] == element), data_composition['A site #3'] == element)\n",
        "  ].tolist()\n",
        "\n",
        "  Ba_subgroup = X_test[X_test.index.isin(index_Ba)]\n",
        "\n",
        "  class_Ba_predicted = grid_svc.predict(Ba_subgroup[features_selected])\n",
        "  print(f1_score(class_test[X_test.index.isin(index_Ba)], class_Ba_predicted, average = 'weighted'))\n",
        "  print(accuracy_score(class_test[X_test.index.isin(index_Ba)], class_Ba_predicted))\n",
        "  print(precision_score(class_test[X_test.index.isin(index_Ba)], class_Ba_predicted))\n",
        "  print(recall_score(class_test[X_test.index.isin(index_Ba)], class_Ba_predicted))\n",
        "  print(f1_score(class_test[X_test.index.isin(index_Ba)], class_Ba_predicted))"
      ],
      "execution_count": null,
      "outputs": []
    },
    {
      "cell_type": "code",
      "metadata": {
        "id": "57SeyugZrs5v",
        "colab": {
          "base_uri": "https://localhost:8080/"
        },
        "outputId": "09c88aad-2f0f-49fa-a62f-9a3dca67168b"
      },
      "source": [
        "# Evaluate on the subgroup of Ba in the A site\n",
        "index_Ba = data_composition.index[np.logical_or(np.logical_or(data_composition['A site #1'] == 'Ba', data_composition['A site #2'] == 'Ba'), data_composition['A site #3'] == 'Ba')\n",
        "].tolist()\n",
        "\n",
        "Ba_subgroup = X_test[X_test.index.isin(index_Ba)]\n",
        "\n",
        "class_Ba_predicted = grid_svc.predict(Ba_subgroup[features_selected])\n",
        "print(f1_score(class_test[X_test.index.isin(index_Ba)], class_Ba_predicted, average = 'weighted'))\n",
        "print(accuracy_score(class_test[X_test.index.isin(index_Ba)], class_Ba_predicted))\n",
        "print(precision_score(class_test[X_test.index.isin(index_Ba)], class_Ba_predicted))\n",
        "print(recall_score(class_test[X_test.index.isin(index_Ba)], class_Ba_predicted))\n",
        "print(f1_score(class_test[X_test.index.isin(index_Ba)], class_Ba_predicted))"
      ],
      "execution_count": null,
      "outputs": [
        {
          "output_type": "stream",
          "text": [
            "0.9671052631578948\n",
            "0.9659090909090909\n",
            "0.8076923076923077\n",
            "0.9545454545454546\n",
            "0.875\n"
          ],
          "name": "stdout"
        }
      ]
    },
    {
      "cell_type": "code",
      "metadata": {
        "colab": {
          "base_uri": "https://localhost:8080/"
        },
        "id": "IYgso-_RNAJ-",
        "outputId": "7e2b3752-509e-418e-c210-26fa84b6e46d"
      },
      "source": [
        "def evaluate_B_site(element):\n",
        "  index_Mn = data_composition.index[np.logical_or(np.logical_or(data_composition['B site #1'] == element, data_composition['B site #2'] == element), data_composition['B site #3'] == element)].tolist()\n",
        "  Mn_subgroup = X_test[X_test.index.isin(index_Mn)]\n",
        "\n",
        "  class_Mn_predicted = grid_svc.predict(Mn_subgroup[features_selected])\n",
        "  print(f1_score(class_test[X_test.index.isin(index_Mn)], class_Mn_predicted, average = 'weighted'))\n",
        "  print(accuracy_score(class_test[X_test.index.isin(index_Mn)], class_Mn_predicted))\n",
        "  print(precision_score(class_test[X_test.index.isin(index_Mn)], class_Mn_predicted))\n",
        "  print(recall_score(class_test[X_test.index.isin(index_Mn)], class_Mn_predicted))\n",
        "  print(f1_score(class_test[X_test.index.isin(index_Mn)], class_Mn_predicted))\n",
        "evaluate_B_site('Fe')\n",
        "print('\\n')\n",
        "evaluate_B_site('Co')"
      ],
      "execution_count": null,
      "outputs": [
        {
          "output_type": "stream",
          "text": [
            "0.9718694654784\n",
            "0.9717514124293786\n",
            "0.9285714285714286\n",
            "0.9512195121951219\n",
            "0.9397590361445782\n",
            "\n",
            "\n",
            "0.920699826723923\n",
            "0.9216867469879518\n",
            "0.6470588235294118\n",
            "0.6111111111111112\n",
            "0.6285714285714287\n"
          ],
          "name": "stdout"
        }
      ]
    },
    {
      "cell_type": "code",
      "metadata": {
        "id": "CAsJ0cpUf3Z7",
        "colab": {
          "base_uri": "https://localhost:8080/"
        },
        "outputId": "fb6e57fa-a5c7-433b-a917-8777425ec491"
      },
      "source": [
        "# Evaluate on the subgroup of Mn in the B site\n",
        "\n",
        "index_Mn = data_composition.index[np.logical_or(np.logical_or(data_composition['B site #1'] == 'Mn', data_composition['B site #2'] == 'Mn'), data_composition['B site #3'] == 'Mn')].tolist()\n",
        "Mn_subgroup = X_test[X_test.index.isin(index_Mn)]\n",
        "\n",
        "class_Mn_predicted = grid_svc.predict(Mn_subgroup[features_selected])\n",
        "print(f1_score(class_test[X_test.index.isin(index_Mn)], class_Mn_predicted, average = 'weighted'))\n",
        "print(accuracy_score(class_test[X_test.index.isin(index_Mn)], class_Mn_predicted))\n",
        "print(precision_score(class_test[X_test.index.isin(index_Mn)], class_Mn_predicted))\n",
        "print(recall_score(class_test[X_test.index.isin(index_Mn)], class_Mn_predicted))\n",
        "print(f1_score(class_test[X_test.index.isin(index_Mn)], class_Mn_predicted))"
      ],
      "execution_count": null,
      "outputs": [
        {
          "output_type": "stream",
          "text": [
            "0.9381985555469268\n",
            "0.9338235294117647\n",
            "0.68\n",
            "0.9444444444444444\n",
            "0.7906976744186047\n"
          ],
          "name": "stdout"
        }
      ]
    },
    {
      "cell_type": "code",
      "metadata": {
        "colab": {
          "base_uri": "https://localhost:8080/"
        },
        "id": "3AqfjhHpNfhf",
        "outputId": "8ad9b1f9-720b-4077-c4bb-980720c09c08"
      },
      "source": [
        "def evaluate_A_site_reg(element):\n",
        "  # Evaluate on the subgroup of Ba in the A site\n",
        "  index_Ba = data_composition.index[np.logical_or(np.logical_or(data_composition['A site #1'] == element, data_composition['A site #2'] == element), data_composition['A site #3'] == element)\n",
        "  ].tolist()\n",
        "\n",
        "  Ba_subgroup = X_test[X_test.index.isin(index_Ba)]\n",
        "\n",
        "  class_Ba_predicted = grid_svr.predict(Ba_subgroup[features_selected_value])\n",
        "  print(r2_score(class_test[X_test.index.isin(index_Ba)], class_Ba_predicted))\n",
        "  print(mean_absolute_error(class_test[X_test.index.isin(index_Ba)], class_Ba_predicted))\n",
        "  print(np.sqrt(mean_squared_error(class_test[X_test.index.isin(index_Ba)], class_Ba_predicted)))\n",
        "\n",
        "evaluate_A_site_reg('Ba')\n",
        "print('\\n')\n",
        "evaluate_A_site_reg('Sr')"
      ],
      "execution_count": null,
      "outputs": [
        {
          "output_type": "stream",
          "text": [
            "-274572.8498590419\n",
            "147.87090634846237\n",
            "173.29603235023217\n",
            "\n",
            "\n",
            "-244184.7706843248\n",
            "129.83427544769657\n",
            "149.58065714072234\n"
          ],
          "name": "stdout"
        }
      ]
    },
    {
      "cell_type": "code",
      "metadata": {
        "colab": {
          "base_uri": "https://localhost:8080/"
        },
        "id": "Tf3iCL7POTeg",
        "outputId": "bdee6d80-f1ac-4d19-8360-5e1347a49eea"
      },
      "source": [
        "def evaluate_B_site_reg(element):\n",
        "  index_Mn = data_composition.index[np.logical_or(np.logical_or(data_composition['B site #1'] == element, data_composition['B site #2'] == element), data_composition['B site #3'] == element)].tolist()\n",
        "  Mn_subgroup = X_test[X_test.index.isin(index_Mn)]\n",
        "\n",
        "  class_Mn_predicted = grid_svr.predict(Mn_subgroup[features_selected_value])\n",
        "\n",
        "  print(r2_score(class_test[X_test.index.isin(index_Mn)], class_Mn_predicted))\n",
        "  print(mean_absolute_error(class_test[X_test.index.isin(index_Mn)], class_Mn_predicted))\n",
        "  print(np.sqrt(mean_squared_error(class_test[X_test.index.isin(index_Mn)], class_Mn_predicted)))\n",
        "evaluate_B_site_reg('Fe')\n",
        "print('\\n')\n",
        "evaluate_B_site_reg('Co')"
      ],
      "execution_count": null,
      "outputs": [
        {
          "output_type": "stream",
          "text": [
            "-105716.01794307254\n",
            "109.1409669896347\n",
            "137.1704515308153\n",
            "\n",
            "\n",
            "-236716.17835806354\n",
            "131.12758824787159\n",
            "151.2773506191377\n"
          ],
          "name": "stdout"
        }
      ]
    },
    {
      "cell_type": "code",
      "metadata": {
        "id": "QUf79vTfGc3L"
      },
      "source": [
        ""
      ],
      "execution_count": null,
      "outputs": []
    },
    {
      "cell_type": "markdown",
      "metadata": {
        "id": "RjWK7v6SGdax"
      },
      "source": [
        "##### (4) Calculating CI"
      ]
    },
    {
      "cell_type": "code",
      "metadata": {
        "id": "Zzg737-BGf9P"
      },
      "source": [
        "random_state = [0, 100, 200, 300, 400, 500, 600, 700, 800, 900]\n",
        "#random_state = [42]\n",
        "def calculate_CI(random_state, X, y_class, y_value):\n",
        "  from sklearn.svm import SVC\n",
        "  MAE, RMSE, R2 = [], [], []\n",
        "  WEIGHTED_F1, ACC, PRECISION, RECALL, F1 = [], [], [], [], []\n",
        "  WEIGHTED_F1_Ba, WEIGHTED_F1_Sr, WEIGHTED_F1_Fe, WEIGHTED_F1_Co = [],[],[],[]\n",
        "  MAE_Ba, MAE_Sr, MAE_Fe, MAE_Co = [], [], [], []\n",
        "  RMSE_Ba, RMSE_Sr, RMSE_Fe, RMSE_Co = [], [], [], []\n",
        "\n",
        "  for state in random_state:\n",
        "    X_train, X_test, class_train, class_test = train_test_split(X[features_selected], y_class, test_size=0.3, random_state=state)\n",
        "    X_train, X_test, value_train, value_test = train_test_split(X[features_selected_value], y_value, test_size=0.3, random_state=state)\n",
        "    \n",
        "    SVReg = make_pipeline(StandardScaler(), SVR())\n",
        "    param_grid_svr = {'svr__C': range(2200, 2300, 10)}\n",
        "    grid_svr = GridSearchCV(SVReg, param_grid_svr, cv=KFold(5), return_train_score=True, scoring='r2')\n",
        "    grid_svr.fit(X_train, value_train.values.ravel())\n",
        "    grid_svr.score(X_test, value_test)\n",
        "    value_test_predicted_svr = grid_svr.predict(X_test)\n",
        "    R2.append(r2_score(value_test, value_test_predicted_svr))\n",
        "    MAE.append(mean_absolute_error(value_test, value_test_predicted_svr))\n",
        "    RMSE.append(np.sqrt(mean_squared_error(value_test, value_test_predicted_svr)))\n",
        "\n",
        "\n",
        "\n",
        "    svc = make_pipeline(StandardScaler(), SVC())\n",
        "    param_grid_svc = {'svc__C': range(75, 95, 1)}\n",
        "    grid_svc = GridSearchCV(svc, param_grid_svc, cv=KFold(5), return_train_score=True, scoring='f1')\n",
        "    grid_svc.fit(X_train, class_train.values.ravel())\n",
        "    grid_svc.score(X_test, class_test)\n",
        "    class_test_predicted = grid_svc.predict(X_test)\n",
        "    WEIGHTED_F1.append(f1_score(class_test, class_test_predicted, average = 'weighted'))\n",
        "    ACC.append(accuracy_score(class_test, class_test_predicted))\n",
        "    PRECISION.append(precision_score(class_test, class_test_predicted))\n",
        "    RECALL.append(recall_score(class_test, class_test_predicted))\n",
        "    F1.append(f1_score(class_test, class_test_predicted))\n",
        "\n",
        "\n",
        "    \n",
        "\n",
        "    def evaluate(element, res, site1,site2,site3, model, metric, y):\n",
        "\n",
        "      index_Ba = data_composition.index[np.logical_or(np.logical_or(data_composition[site1] == element, data_composition[site2] == element), data_composition[site3] == element)\n",
        "      ].tolist()\n",
        "      Ba_subgroup = X_test[X_test.index.isin(index_Ba)]\n",
        "\n",
        "      class_Ba_predicted = model.predict(Ba_subgroup)\n",
        "      if metric == 'f1_score':\n",
        "        res.append(f1_score(y[X_test.index.isin(index_Ba)], class_Ba_predicted, average = 'weighted'))\n",
        "      elif metric == 'mae':\n",
        "        res.append(mean_absolute_error(y[X_test.index.isin(index_Ba)], class_Ba_predicted))\n",
        "      elif metric == 'rmse':\n",
        "        res.append(np.sqrt(mean_squared_error(y[X_test.index.isin(index_Ba)], class_Ba_predicted)))\n",
        "\n",
        "    evaluate('Ba', WEIGHTED_F1_Ba, 'A site #1', 'A site #2', 'A site #3', grid_svc, 'f1_score', class_test)\n",
        "    evaluate('Sr', WEIGHTED_F1_Sr, 'A site #1', 'A site #2', 'A site #3', grid_svc, 'f1_score', class_test)\n",
        "    evaluate('Fe', WEIGHTED_F1_Fe, 'B site #1', 'B site #2', 'B site #3', grid_svc, 'f1_score', class_test)\n",
        "    evaluate('Co', WEIGHTED_F1_Co, 'B site #1', 'B site #2', 'B site #3', grid_svc, 'f1_score', class_test)\n",
        "    evaluate('Ba', MAE_Ba, 'A site #1', 'A site #2', 'A site #3', grid_svr, 'mae', value_test)\n",
        "    evaluate('Sr', MAE_Sr, 'A site #1', 'A site #2', 'A site #3', grid_svr, 'mae', value_test)\n",
        "    evaluate('Fe', MAE_Fe, 'B site #1', 'B site #2', 'B site #3', grid_svr, 'mae', value_test)\n",
        "    evaluate('Co', MAE_Co, 'B site #1', 'B site #2', 'B site #3', grid_svr, 'mae', value_test)\n",
        "    evaluate('Ba', RMSE_Ba, 'A site #1', 'A site #2', 'A site #3', grid_svr, 'rmse', value_test)\n",
        "    evaluate('Sr', RMSE_Sr, 'A site #1', 'A site #2', 'A site #3', grid_svr, 'rmse', value_test)\n",
        "    evaluate('Fe', RMSE_Fe, 'B site #1', 'B site #2', 'B site #3', grid_svr, 'rmse', value_test)\n",
        "    evaluate('Co', RMSE_Co, 'B site #1', 'B site #2', 'B site #3', grid_svr, 'rmse', value_test)\n",
        "\n",
        "  return  MAE, RMSE, R2, WEIGHTED_F1, ACC, PRECISION, RECALL, F1, WEIGHTED_F1_Ba, WEIGHTED_F1_Sr, WEIGHTED_F1_Fe, WEIGHTED_F1_Co, MAE_Ba, MAE_Sr, MAE_Fe, MAE_Co, RMSE_Ba, RMSE_Sr, RMSE_Fe, RMSE_Co"
      ],
      "execution_count": null,
      "outputs": []
    },
    {
      "cell_type": "code",
      "metadata": {
        "id": "AvGxO8ydVVqb"
      },
      "source": [
        "MAE, RMSE, R2, WEIGHTED_F1, ACC, PRECISION, RECALL, F1, WEIGHTED_F1_Ba, WEIGHTED_F1_Sr, WEIGHTED_F1_Fe, WEIGHTED_F1_Co, MAE_Ba, MAE_Sr, MAE_Fe, MAE_Co, RMSE_Ba, RMSE_Sr, RMSE_Fe, RMSE_Co = calculate_CI(random_state, features_full, target_class, target_value)"
      ],
      "execution_count": null,
      "outputs": []
    },
    {
      "cell_type": "code",
      "metadata": {
        "colab": {
          "base_uri": "https://localhost:8080/"
        },
        "id": "AWqtc3RlcPNB",
        "outputId": "c1d44a87-e410-4f06-963d-39a89d0943e5"
      },
      "source": [
        "import numpy as np\n",
        "print((np.mean(np.array(MAE))), np.std(np.array(MAE))*2)\n",
        "print(np.mean(np.array(MAE_Ba)), np.std(np.array(MAE_Ba))*2)\n",
        "print(np.mean(np.array(MAE_Sr)), np.std(np.array(MAE_Sr))*2)\n",
        "print(np.mean(np.array(MAE_Fe)), np.std(np.array(MAE_Fe))*2)\n",
        "print(np.mean(np.array(MAE_Co)), np.std(np.array(MAE_Co))*2)\n",
        "\n",
        "print(np.mean(np.array(WEIGHTED_F1)), np.std(np.array(WEIGHTED_F1))*2)\n",
        "print(np.mean(np.array(WEIGHTED_F1_Ba)), np.std(np.array(WEIGHTED_F1_Ba))*2)\n",
        "print(np.mean(np.array(WEIGHTED_F1_Sr)), np.std(np.array(WEIGHTED_F1_Sr))*2)\n",
        "print(np.mean(np.array(WEIGHTED_F1_Fe)), np.std(np.array(WEIGHTED_F1_Fe))*2)\n",
        "print(np.mean(np.array(WEIGHTED_F1_Co)), np.std(np.array(WEIGHTED_F1_Co))*2)\n",
        "\n",
        "print(np.mean(np.array(RMSE)), np.std(np.array(RMSE))*2)\n",
        "print(np.mean(np.array(RMSE_Ba)), np.std(np.array(RMSE_Ba))*2)\n",
        "print(np.mean(np.array(RMSE_Sr)), np.std(np.array(RMSE_Sr))*2)\n",
        "print(np.mean(np.array(RMSE_Fe)), np.std(np.array(RMSE_Fe))*2)\n",
        "print(np.mean(np.array(RMSE_Co)), np.std(np.array(RMSE_Co))*2)"
      ],
      "execution_count": null,
      "outputs": [
        {
          "output_type": "stream",
          "text": [
            "20.643261209466043 2.280784441769721\n",
            "28.431975925863572 6.076939745269715\n",
            "14.939859133127962 3.86985707755885\n",
            "24.196891263037866 4.827564552137484\n",
            "18.216044248796255 3.6684009234334356\n",
            "0.903822790040309 0.0439364370000172\n",
            "0.9192704623108199 0.05646713476687788\n",
            "0.9352188833268074 0.053739901657352235\n",
            "0.9160436246318184 0.0634893198574281\n",
            "0.9317729459048272 0.0405768868289813\n",
            "50.58846481976145 15.103105184730246\n",
            "75.6846804284398 32.09248015194238\n",
            "26.057934142014613 8.953134616870642\n",
            "73.45460973153828 30.24472451639533\n",
            "33.17561668615567 9.444554909788074\n"
          ],
          "name": "stdout"
        }
      ]
    },
    {
      "cell_type": "code",
      "metadata": {
        "colab": {
          "base_uri": "https://localhost:8080/"
        },
        "id": "JGUjvnWdQUuc",
        "outputId": "47c47452-0f37-44c9-f4f9-e0ed003426c0"
      },
      "source": [
        "import numpy as np\n",
        "print((np.mean(np.array(MAE))), np.std(np.array(MAE))*2)\n",
        "print(np.mean(np.array(MAE_Ba)), np.std(np.array(MAE_Ba))*2)\n",
        "print(np.mean(np.array(MAE_Sr)), np.std(np.array(MAE_Sr))*2)\n",
        "print(np.mean(np.array(MAE_Fe)), np.std(np.array(MAE_Fe))*2)\n",
        "print(np.mean(np.array(MAE_Co)), np.std(np.array(MAE_Co))*2)\n",
        "\n",
        "print(np.mean(np.array(WEIGHTED_F1)), np.std(np.array(WEIGHTED_F1))*2)\n",
        "print(np.mean(np.array(WEIGHTED_F1_Ba)), np.std(np.array(WEIGHTED_F1_Ba))*2)\n",
        "print(np.mean(np.array(WEIGHTED_F1_Sr)), np.std(np.array(WEIGHTED_F1_Sr))*2)\n",
        "print(np.mean(np.array(WEIGHTED_F1_Fe)), np.std(np.array(WEIGHTED_F1_Fe))*2)\n",
        "print(np.mean(np.array(WEIGHTED_F1_Co)), np.std(np.array(WEIGHTED_F1_Co))*2)\n",
        "\n",
        "print(np.mean(np.array(RMSE)), np.std(np.array(RMSE))*2)\n",
        "print(np.mean(np.array(RMSE_Ba)), np.std(np.array(RMSE_Ba))*2)\n",
        "print(np.mean(np.array(RMSE_Sr)), np.std(np.array(RMSE_Sr))*2)\n",
        "print(np.mean(np.array(RMSE_Fe)), np.std(np.array(RMSE_Fe))*2)\n",
        "print(np.mean(np.array(RMSE_Co)), np.std(np.array(RMSE_Co))*2)\n",
        "\n"
      ],
      "execution_count": null,
      "outputs": [
        {
          "output_type": "stream",
          "text": [
            "20.643261209466043 2.280784441769721\n",
            "28.431975925863572 6.076939745269715\n",
            "14.939859133127962 3.86985707755885\n",
            "24.196891263037866 4.827564552137484\n",
            "18.216044248796255 3.6684009234334356\n",
            "0.903822790040309 0.0439364370000172\n",
            "0.9192704623108199 0.05646713476687788\n",
            "0.9352188833268074 0.053739901657352235\n",
            "0.9160436246318184 0.0634893198574281\n",
            "0.9317729459048272 0.0405768868289813\n",
            "50.58846481976145 15.103105184730246\n",
            "75.6846804284398 32.09248015194238\n",
            "26.057934142014613 8.953134616870642\n",
            "73.45460973153828 30.24472451639533\n",
            "33.17561668615567 9.444554909788074\n"
          ],
          "name": "stdout"
        }
      ]
    },
    {
      "cell_type": "markdown",
      "metadata": {
        "id": "kA46i6lMeVVQ"
      },
      "source": [
        "#### 2.2 GBDT"
      ]
    },
    {
      "cell_type": "code",
      "metadata": {
        "id": "Y2e-5c13fFo9"
      },
      "source": [
        "from sklearn.ensemble import GradientBoostingRegressor\n",
        "from sklearn.model_selection import train_test_split,ShuffleSplit\n",
        "from sklearn.preprocessing import StandardScaler\n",
        "from scipy.stats import uniform\n",
        "from imblearn.pipeline import Pipeline\n",
        "from sklearn.metrics import make_scorer\n",
        "from sklearn.metrics import accuracy_score, precision_score, r2_score, recall_score,mean_absolute_error\n",
        "from sklearn.model_selection import cross_val_score, cross_validate, GridSearchCV, KFold\n",
        "from sklearn.decomposition import PCA\n",
        "from sklearn.feature_selection import f_regression, f_classif, RFE, VarianceThreshold, chi2, SelectKBest, SelectFromModel\n",
        "from sklearn.ensemble import GradientBoostingClassifier"
      ],
      "execution_count": null,
      "outputs": []
    },
    {
      "cell_type": "markdown",
      "metadata": {
        "id": "x54Af2FXfbUW"
      },
      "source": [
        "##### (1) Regression"
      ]
    },
    {
      "cell_type": "code",
      "metadata": {
        "id": "ngoU-BMFQ-9v",
        "colab": {
          "base_uri": "https://localhost:8080/"
        },
        "outputId": "ac155e79-d1f1-4f4f-a395-bbc0f8a26964"
      },
      "source": [
        "gbdt_reg = make_pipeline(StandardScaler(), GradientBoostingRegressor())\n",
        "param_grid_reg = {'gradientboostingregressor__alpha':  np.linspace(0.001, 0.01, 5)}\n",
        "grid_reg = GridSearchCV(gbdt_reg, param_grid_reg, cv=KFold(5), return_train_score=True,scoring= 'r2')\n",
        "grid_reg.fit(X_train_4_value, value_train.values.ravel())\n",
        "grid_reg.score(X_test[features_selected_value], value_test)\n"
      ],
      "execution_count": null,
      "outputs": [
        {
          "output_type": "execute_result",
          "data": {
            "text/plain": [
              "0.6521863323589769"
            ]
          },
          "metadata": {
            "tags": []
          },
          "execution_count": 119
        }
      ]
    },
    {
      "cell_type": "code",
      "metadata": {
        "id": "nX4LbA5zRIhK",
        "colab": {
          "base_uri": "https://localhost:8080/"
        },
        "outputId": "d5a602a4-786b-4fd1-fbc3-bbb6c33d60e8"
      },
      "source": [
        "grid_reg.best_params_"
      ],
      "execution_count": null,
      "outputs": [
        {
          "output_type": "execute_result",
          "data": {
            "text/plain": [
              "{'gradientboostingregressor__alpha': 0.001,\n",
              " 'gradientboostingregressor__n_estimators': 350}"
            ]
          },
          "metadata": {
            "tags": []
          },
          "execution_count": 120
        }
      ]
    },
    {
      "cell_type": "code",
      "metadata": {
        "id": "wYbQorjVfL8P",
        "colab": {
          "base_uri": "https://localhost:8080/"
        },
        "outputId": "6b2091bc-b83d-4b7b-9d57-9ebbacfd3f46"
      },
      "source": [
        "value_test_predicted_reg= grid_reg.predict(X_test[features_selected_value])\n",
        "print(r2_score(value_test, value_test_predicted_reg))\n",
        "print(mean_absolute_error(value_test, value_test_predicted_reg))\n",
        "print(np.sqrt(mean_squared_error(value_test, value_test_predicted_reg)))"
      ],
      "execution_count": null,
      "outputs": [
        {
          "output_type": "stream",
          "text": [
            "0.6521863323589769\n",
            "28.095110093551593\n",
            "58.6726129559543\n"
          ],
          "name": "stdout"
        }
      ]
    },
    {
      "cell_type": "markdown",
      "metadata": {
        "id": "my3hj6mKiljM"
      },
      "source": [
        "##### (2) Classification"
      ]
    },
    {
      "cell_type": "code",
      "metadata": {
        "id": "DTSormKluORk",
        "colab": {
          "base_uri": "https://localhost:8080/"
        },
        "outputId": "753890bf-9044-4ebf-dec9-2362c3e6b40e"
      },
      "source": [
        "gbdt_clf = make_pipeline(StandardScaler(), GradientBoostingClassifier())\n",
        "param_grid_clf = {'gradientboostingclassifier__ccp_alpha':np.linspace(0,0.001, 5)}\n",
        "grid_clf = GridSearchCV(gbdt_clf, param_grid_clf, cv=KFold(5), return_train_score=True,scoring='f1')\n",
        "grid_clf.fit(X_train_4_class, class_train.values.ravel())\n",
        "grid_clf.score(X_test[features_selected], class_test)"
      ],
      "execution_count": null,
      "outputs": [
        {
          "output_type": "execute_result",
          "data": {
            "text/plain": [
              "0.8294314381270903"
            ]
          },
          "metadata": {
            "tags": []
          },
          "execution_count": 123
        }
      ]
    },
    {
      "cell_type": "code",
      "metadata": {
        "colab": {
          "base_uri": "https://localhost:8080/"
        },
        "id": "jCUnwlvK4AXF",
        "outputId": "e689d68d-9d6d-47ff-d965-b1654d3aa722"
      },
      "source": [
        "class_test_predicted = grid_clf.predict(X_test[features_selected])\n",
        "print(accuracy_score(class_test, class_test_predicted))\n",
        "print(precision_score(class_test, class_test_predicted))\n",
        "print(recall_score(class_test, class_test_predicted))\n",
        "print(f1_score(class_test, class_test_predicted))"
      ],
      "execution_count": null,
      "outputs": [
        {
          "output_type": "stream",
          "text": [
            "0.9119170984455959\n",
            "0.8322147651006712\n",
            "0.8266666666666667\n",
            "0.8294314381270903\n"
          ],
          "name": "stdout"
        }
      ]
    },
    {
      "cell_type": "markdown",
      "metadata": {
        "id": "zxsXhrcWfAqz"
      },
      "source": [
        "##### (2) Evaluate on subgroup"
      ]
    },
    {
      "cell_type": "code",
      "metadata": {
        "id": "EoWXCxAmpwjf"
      },
      "source": [
        "random_state = [0, 100, 200, 300, 400, 500, 600, 700, 800, 900]\n",
        "def calculate_CI(random_state, X, y_class, y_value):\n",
        "  MAE, RMSE, R2 = [], [], []\n",
        "  WEIGHTED_F1, ACC, PRECISION, RECALL, F1 = [], [], [], [], []\n",
        "  WEIGHTED_F1_Ba, WEIGHTED_F1_Sr, WEIGHTED_F1_Fe, WEIGHTED_F1_Co = [],[],[],[]\n",
        "  MAE_Ba, MAE_Sr, MAE_Fe, MAE_Co = [], [], [], []\n",
        "  RMSE_Ba, RMSE_Sr, RMSE_Fe, RMSE_Co = [], [], [], []\n",
        "\n",
        "  for state in random_state:\n",
        "    X_train, X_test, class_train, class_test = train_test_split(X[features_selected], y_class, test_size=0.3, random_state=state)\n",
        "    X_train, X_test, value_train, value_test = train_test_split(X[features_selected_value], y_value, test_size=0.3, random_state=state)\n",
        "    \n",
        "    gbdt_reg = make_pipeline(StandardScaler(), GradientBoostingRegressor())\n",
        "    param_grid_reg = {'gradientboostingregressor__alpha':  np.linspace(0.001, 0.01, 5)}\n",
        "    grid_reg = GridSearchCV(gbdt_reg, param_grid_reg, cv=KFold(5), return_train_score=True, scoring='r2')\n",
        "    grid_reg.fit(X_train, value_train.values.ravel())\n",
        "    grid_reg.score(X_test, value_test)\n",
        "    value_test_predicted_reg = grid_reg.predict(X_test)\n",
        "    R2.append(r2_score(value_test, value_test_predicted_reg))\n",
        "    MAE.append(mean_absolute_error(value_test, value_test_predicted_reg))\n",
        "    RMSE.append(np.sqrt(mean_squared_error(value_test, value_test_predicted_reg)))\n",
        "    \n",
        "    gbdt_clf = make_pipeline(StandardScaler(), GradientBoostingClassifier())\n",
        "    param_grid_clf = {'gradientboostingclassifier__ccp_alpha':np.linspace(0,0.001, 5)}\n",
        "    grid_clf = GridSearchCV(gbdt_clf, param_grid_clf, cv=KFold(5), return_train_score=True,scoring='f1')\n",
        "    grid_clf.fit(X_train, class_train.values.ravel())\n",
        "    grid_clf.score(X_test, class_test)\n",
        "    class_test_predicted = grid_clf.predict(X_test)\n",
        "    WEIGHTED_F1.append(f1_score(class_test, class_test_predicted, average = 'weighted'))\n",
        "    ACC.append(accuracy_score(class_test, class_test_predicted))\n",
        "    PRECISION.append(precision_score(class_test, class_test_predicted))\n",
        "    RECALL.append(recall_score(class_test, class_test_predicted))\n",
        "    F1.append(f1_score(class_test, class_test_predicted))\n",
        "\n",
        "\n",
        "    \n",
        "\n",
        "    def evaluate(element, res, site1,site2,site3, model, metric, y):\n",
        "\n",
        "      index_Ba = data_composition.index[np.logical_or(np.logical_or(data_composition[site1] == element, data_composition[site2] == element), data_composition[site3] == element)\n",
        "      ].tolist()\n",
        "      Ba_subgroup = X_test[X_test.index.isin(index_Ba)]\n",
        "\n",
        "      class_Ba_predicted = model.predict(Ba_subgroup)\n",
        "      if metric == 'f1_score':\n",
        "        res.append(f1_score(y[X_test.index.isin(index_Ba)], class_Ba_predicted, average = 'weighted'))\n",
        "      elif metric == 'mae':\n",
        "        res.append(mean_absolute_error(y[X_test.index.isin(index_Ba)], class_Ba_predicted))\n",
        "      elif metric == 'rmse':\n",
        "        res.append(np.sqrt(mean_squared_error(y[X_test.index.isin(index_Ba)], class_Ba_predicted)))\n",
        "\n",
        "    evaluate('Ba', WEIGHTED_F1_Ba, 'A site #1', 'A site #2', 'A site #3', grid_clf, 'f1_score', class_test)\n",
        "    evaluate('Sr', WEIGHTED_F1_Sr, 'A site #1', 'A site #2', 'A site #3', grid_clf, 'f1_score', class_test)\n",
        "    evaluate('Fe', WEIGHTED_F1_Fe, 'B site #1', 'B site #2', 'B site #3', grid_clf, 'f1_score', class_test)\n",
        "    evaluate('Co', WEIGHTED_F1_Co, 'B site #1', 'B site #2', 'B site #3', grid_clf, 'f1_score', class_test)\n",
        "    evaluate('Ba', MAE_Ba, 'A site #1', 'A site #2', 'A site #3', grid_reg, 'mae', value_test)\n",
        "    evaluate('Sr', MAE_Sr, 'A site #1', 'A site #2', 'A site #3', grid_reg, 'mae', value_test)\n",
        "    evaluate('Fe', MAE_Fe, 'B site #1', 'B site #2', 'B site #3', grid_reg, 'mae', value_test)\n",
        "    evaluate('Co', MAE_Co, 'B site #1', 'B site #2', 'B site #3', grid_reg, 'mae', value_test)\n",
        "    evaluate('Ba', RMSE_Ba, 'A site #1', 'A site #2', 'A site #3', grid_reg, 'rmse', value_test)\n",
        "    evaluate('Sr', RMSE_Sr, 'A site #1', 'A site #2', 'A site #3', grid_reg, 'rmse', value_test)\n",
        "    evaluate('Fe', RMSE_Fe, 'B site #1', 'B site #2', 'B site #3', grid_reg, 'rmse', value_test)\n",
        "    evaluate('Co', RMSE_Co, 'B site #1', 'B site #2', 'B site #3', grid_reg, 'rmse', value_test)\n",
        "\n",
        "  return  MAE, RMSE, R2, WEIGHTED_F1, ACC, PRECISION, RECALL, F1, WEIGHTED_F1_Ba, WEIGHTED_F1_Sr, WEIGHTED_F1_Fe, WEIGHTED_F1_Co, MAE_Ba, MAE_Sr, MAE_Fe, MAE_Co, RMSE_Ba, RMSE_Sr, RMSE_Fe, RMSE_Co"
      ],
      "execution_count": null,
      "outputs": []
    },
    {
      "cell_type": "code",
      "metadata": {
        "id": "i067Hf7rq_gL"
      },
      "source": [
        "MAE, RMSE, R2, WEIGHTED_F1, ACC, PRECISION, RECALL, F1, WEIGHTED_F1_Ba, WEIGHTED_F1_Sr, WEIGHTED_F1_Fe, WEIGHTED_F1_Co, MAE_Ba, MAE_Sr, MAE_Fe, MAE_Co, RMSE_Ba, RMSE_Sr, RMSE_Fe, RMSE_Co = calculate_CI(random_state, features_full, target_class, target_value)"
      ],
      "execution_count": null,
      "outputs": []
    },
    {
      "cell_type": "code",
      "metadata": {
        "colab": {
          "base_uri": "https://localhost:8080/"
        },
        "id": "HkEV4Utn-HtV",
        "outputId": "f5233666-a8fd-4838-9009-9d678727fa94"
      },
      "source": [
        "import numpy as np\n",
        "print((np.mean(np.array(MAE))), np.std(np.array(MAE))*2)\n",
        "print(np.mean(np.array(MAE_Ba)), np.std(np.array(MAE_Ba))*2)\n",
        "print(np.mean(np.array(MAE_Sr)), np.std(np.array(MAE_Sr))*2)\n",
        "print(np.mean(np.array(MAE_Fe)), np.std(np.array(MAE_Fe))*2)\n",
        "print(np.mean(np.array(MAE_Co)), np.std(np.array(MAE_Co))*2)\n",
        "\n",
        "print(np.mean(np.array(WEIGHTED_F1)), np.std(np.array(WEIGHTED_F1))*2)\n",
        "print(np.mean(np.array(WEIGHTED_F1_Ba)), np.std(np.array(WEIGHTED_F1_Ba))*2)\n",
        "print(np.mean(np.array(WEIGHTED_F1_Sr)), np.std(np.array(WEIGHTED_F1_Sr))*2)\n",
        "print(np.mean(np.array(WEIGHTED_F1_Fe)), np.std(np.array(WEIGHTED_F1_Fe))*2)\n",
        "print(np.mean(np.array(WEIGHTED_F1_Co)), np.std(np.array(WEIGHTED_F1_Co))*2)\n",
        "\n",
        "print(np.mean(np.array(RMSE)), np.std(np.array(RMSE))*2)\n",
        "print(np.mean(np.array(RMSE_Ba)), np.std(np.array(RMSE_Ba))*2)\n",
        "print(np.mean(np.array(RMSE_Sr)), np.std(np.array(RMSE_Sr))*2)\n",
        "print(np.mean(np.array(RMSE_Fe)), np.std(np.array(RMSE_Fe))*2)\n",
        "print(np.mean(np.array(RMSE_Co)), np.std(np.array(RMSE_Co))*2)"
      ],
      "execution_count": null,
      "outputs": [
        {
          "output_type": "stream",
          "text": [
            "28.764600790164685 3.1271400200779613\n",
            "37.156165672124914 6.098612457200731\n",
            "25.071615839975117 4.543735569398987\n",
            "33.8058277862451 6.665545002677218\n",
            "22.229133335149413 3.3181332852788405\n",
            "0.8844558512231284 0.023703176983948804\n",
            "0.926209424556971 0.03786752162664054\n",
            "0.9286665683515005 0.028484835598089696\n",
            "0.8972000591654601 0.03311407596115093\n",
            "0.9337570052722988 0.03811907396405043\n",
            "56.291711589748104 12.411175333777521\n",
            "82.13622472132361 27.579109362879688\n",
            "36.46134238666031 7.454063887044454\n",
            "78.31870560200078 26.56279056204345\n",
            "33.388479556646686 6.1017479150540455\n"
          ],
          "name": "stdout"
        }
      ]
    },
    {
      "cell_type": "markdown",
      "metadata": {
        "id": "e_2mP2HhkJk3"
      },
      "source": [
        "### 3. Rebuild model on subgroup"
      ]
    },
    {
      "cell_type": "markdown",
      "metadata": {
        "id": "DGflfZQakLFJ"
      },
      "source": [
        "(1) Group by A site"
      ]
    },
    {
      "cell_type": "code",
      "metadata": {
        "id": "f_IZyVdhkNuh"
      },
      "source": [
        "index_Ba_in_A_site = np.logical_or(np.logical_or(data_composition['A site #1'] == 'Ba', data_composition['A site #2'] == 'Ba'), data_composition['A site #3'] == 'Ba')\n",
        "Material_A_site_Ba = data_composition.loc[index_Ba_in_A_site]\n",
        "data_Ba = Material_A_site_Ba.merge(data, 'inner', on='Material Composition')\n",
        "\n",
        "features_full_Ba = data_Ba.drop(['index', 'Material Composition', 'EnergyAboveHull', 'Formation_energy'],axis=1)\n",
        "target_value_Ba = data_Ba[['EnergyAboveHull']]\n",
        "target_class_Ba = data_Ba[['EnergyAboveHull']]\n",
        "target_class_Ba[target_class_Ba <= 40] = 1\n",
        "target_class_Ba[target_class_Ba > 40] = 0\n",
        "\n",
        "\n",
        "X_train_Ba, X_test_Ba, class_train_Ba, class_test_Ba = train_test_split(features_full_Ba, target_class_Ba, test_size=0.3, random_state=42)\n",
        " "
      ],
      "execution_count": null,
      "outputs": []
    },
    {
      "cell_type": "code",
      "metadata": {
        "id": "q6QA8Se5pVIr",
        "colab": {
          "base_uri": "https://localhost:8080/"
        },
        "outputId": "56332bf0-debd-4b4e-bfe4-0e9bc8787e64"
      },
      "source": [
        "print('Number of \\'Stable\\' in the training dataset:', len(class_train_Ba[class_train_Ba['EnergyAboveHull'] == 1.0]))\n",
        "print('Number of \\'Unstable\\' in the training dataset:', len(class_train_Ba[class_train_Ba['EnergyAboveHull'] == 0.0]))"
      ],
      "execution_count": null,
      "outputs": [
        {
          "output_type": "stream",
          "text": [
            "Number of 'Stable' in the training dataset: 59\n",
            "Number of 'Unstable' in the training dataset: 358\n"
          ],
          "name": "stdout"
        }
      ]
    },
    {
      "cell_type": "code",
      "metadata": {
        "id": "lkHZ12Fwn7LJ",
        "colab": {
          "base_uri": "https://localhost:8080/"
        },
        "outputId": "c4d51a89-6074-4569-9069-41d176813861"
      },
      "source": [
        "X_train_Ba_class = X_train_Ba[features_selected]\n",
        "X_resampled_Ba, y_resampled_Ba = ros.fit_resample(X_train_Ba_class, class_train_Ba.values.ravel())\n",
        "print('Number of \\'Stable\\' after oversampling:', np.count_nonzero(y_resampled_Ba))\n",
        "print('Number of \\'Unstable\\' after oversampling:', np.count_nonzero(y_resampled_Ba))"
      ],
      "execution_count": null,
      "outputs": [
        {
          "output_type": "stream",
          "text": [
            "Number of 'Stable' after oversampling: 358\n",
            "Number of 'Unstable' after oversampling: 358\n"
          ],
          "name": "stdout"
        },
        {
          "output_type": "stream",
          "text": [
            "Function safe_indexing is deprecated; safe_indexing is deprecated in version 0.22 and will be removed in version 0.24.\n"
          ],
          "name": "stderr"
        }
      ]
    },
    {
      "cell_type": "code",
      "metadata": {
        "id": "yaUKgpKFoQfz",
        "colab": {
          "base_uri": "https://localhost:8080/"
        },
        "outputId": "b765703d-5bc1-4fbf-d53c-81c63b5b1bc5"
      },
      "source": [
        "\n",
        "param_grid_svc = {'svc__C': range(35, 45, 1)}\n",
        "\n",
        "scoring = {'F1': make_scorer(f1_score),\n",
        "           'Accuracy': make_scorer(accuracy_score),  \n",
        "           'Precision':make_scorer(precision_score),\n",
        "           'Recall': make_scorer(recall_score)}\n",
        "\n",
        "grid_svc = GridSearchCV(SVC, param_grid_svc, cv=KFold(5), return_train_score=True, scoring=scoring, refit = 'F1')\n",
        "grid_svc.fit(X_resampled_Ba, y_resampled_Ba)\n",
        "grid_svc.score(X_test_Ba[features_selected], class_test_Ba)"
      ],
      "execution_count": null,
      "outputs": [
        {
          "output_type": "execute_result",
          "data": {
            "text/plain": [
              "0.7027027027027027"
            ]
          },
          "metadata": {
            "tags": []
          },
          "execution_count": 41
        }
      ]
    },
    {
      "cell_type": "code",
      "metadata": {
        "id": "UM37foIfov7g",
        "colab": {
          "base_uri": "https://localhost:8080/"
        },
        "outputId": "69bf73a2-20a8-491e-ec26-a34e93baee57"
      },
      "source": [
        "class_test_predicted_Ba = grid_svc.predict(X_test_Ba[features_selected])\n",
        "print(accuracy_score(class_test_Ba, class_test_predicted_Ba))\n",
        "print(precision_score(class_test_Ba, class_test_predicted_Ba))\n",
        "print(recall_score(class_test_Ba, class_test_predicted_Ba))\n",
        "print(f1_score(class_test_Ba, class_test_predicted_Ba))"
      ],
      "execution_count": null,
      "outputs": [
        {
          "output_type": "stream",
          "text": [
            "0.9388888888888889\n",
            "0.7647058823529411\n",
            "0.65\n",
            "0.7027027027027027\n"
          ],
          "name": "stdout"
        }
      ]
    },
    {
      "cell_type": "code",
      "metadata": {
        "id": "fd8E4kUtipeJ",
        "colab": {
          "base_uri": "https://localhost:8080/"
        },
        "outputId": "45a7a995-8de2-46b7-dab6-6048b6455df1"
      },
      "source": [
        "grid_search_clf.fit(X_resampled_Ba, y_resampled_Ba)\n",
        "grid_search_clf.score(X_test_Ba[features_selected], class_test_Ba)"
      ],
      "execution_count": null,
      "outputs": [
        {
          "output_type": "execute_result",
          "data": {
            "text/plain": [
              "0.75"
            ]
          },
          "metadata": {
            "tags": []
          },
          "execution_count": 44
        }
      ]
    },
    {
      "cell_type": "code",
      "metadata": {
        "id": "3G0QWSKvjChv",
        "colab": {
          "base_uri": "https://localhost:8080/"
        },
        "outputId": "8db5629d-07e6-4735-ebca-357346af30cd"
      },
      "source": [
        "class_test_predicted_Ba = grid_search_clf.predict(X_test_Ba[features_selected])\n",
        "print(accuracy_score(class_test_Ba, class_test_predicted_Ba))\n",
        "print(precision_score(class_test_Ba, class_test_predicted_Ba))\n",
        "print(recall_score(class_test_Ba, class_test_predicted_Ba))\n",
        "print(f1_score(class_test_Ba, class_test_predicted_Ba))"
      ],
      "execution_count": null,
      "outputs": [
        {
          "output_type": "stream",
          "text": [
            "0.9444444444444444\n",
            "0.75\n",
            "0.75\n",
            "0.75\n"
          ],
          "name": "stdout"
        }
      ]
    },
    {
      "cell_type": "markdown",
      "metadata": {
        "id": "Oo_cqu7NqZHg"
      },
      "source": [
        "(2) Group by B site"
      ]
    },
    {
      "cell_type": "code",
      "metadata": {
        "id": "4mb--Lf-qYiP"
      },
      "source": [
        "index_Mn_in_B_site = np.logical_or(np.logical_or(data_composition['B site #1'] == 'Mn', data_composition['B site #2'] == 'Mn'), data_composition['B site #3'] == 'Mn')\n",
        "Material_B_site_Mn = data_composition.loc[index_Mn_in_B_site]\n",
        "data_Mn = Material_B_site_Mn.merge(data, 'inner', on='Material Composition')\n",
        "\n",
        "features_full_Mn = data_Mn.drop(['index', 'Material Composition', 'EnergyAboveHull', 'Formation_energy'],axis=1)\n",
        "target_value_Mn = data_Mn[['EnergyAboveHull']]\n",
        "target_class_Mn = data_Mn[['EnergyAboveHull']]\n",
        "target_class_Mn[target_class_Mn <= 40] = 1\n",
        "target_class_Mn[target_class_Mn > 40] = 0\n",
        "\n",
        "\n",
        "X_train_Mn, X_test_Mn, class_train_Mn, class_test_Mn = train_test_split(features_full_Mn, target_class_Mn, test_size=0.3, random_state=42)\n",
        " "
      ],
      "execution_count": null,
      "outputs": []
    },
    {
      "cell_type": "code",
      "metadata": {
        "id": "s_yGhnxeqYlB",
        "colab": {
          "base_uri": "https://localhost:8080/"
        },
        "outputId": "cc2a58c0-a21f-4a1b-ee71-6a6aa41e1baf"
      },
      "source": [
        "print('Number of \\'Stable\\' in the training dataset:', len(class_train_Mn[class_train_Mn['EnergyAboveHull'] == 1.0]))\n",
        "print('Number of \\'Unstable\\' in the training dataset:', len(class_train_Mn[class_train_Mn['EnergyAboveHull'] == 0.0]))\n",
        "\n",
        "X_train_Mn_class = X_train_Mn[features_selected]\n",
        "X_resampled_Mn, y_resampled_Mn = ros.fit_resample(X_train_Mn_class, class_train_Mn.values.ravel())\n",
        "print('Number of \\'Stable\\' after oversampling:', np.count_nonzero(y_resampled_Mn))\n",
        "print('Number of \\'Unstable\\' after oversampling:', np.count_nonzero(y_resampled_Mn))"
      ],
      "execution_count": null,
      "outputs": [
        {
          "output_type": "stream",
          "text": [
            "Number of 'Stable' in the training dataset: 55\n",
            "Number of 'Unstable' in the training dataset: 262\n",
            "Number of 'Stable' after oversampling: 262\n",
            "Number of 'Unstable' after oversampling: 262\n"
          ],
          "name": "stdout"
        },
        {
          "output_type": "stream",
          "text": [
            "Function safe_indexing is deprecated; safe_indexing is deprecated in version 0.22 and will be removed in version 0.24.\n"
          ],
          "name": "stderr"
        }
      ]
    },
    {
      "cell_type": "code",
      "metadata": {
        "id": "bLRrdotVrLTA",
        "colab": {
          "base_uri": "https://localhost:8080/"
        },
        "outputId": "5d4a1289-0f6b-40e2-c1e4-654e346247fb"
      },
      "source": [
        "param_grid_svc = {'svc__C': range(35, 45, 1)}\n",
        "\n",
        "scoring = {'F1': make_scorer(f1_score),\n",
        "           'Accuracy': make_scorer(accuracy_score),  \n",
        "           'Precision':make_scorer(precision_score),\n",
        "           'Recall': make_scorer(recall_score)}\n",
        "\n",
        "grid_svc = GridSearchCV(SVC, param_grid_svc, cv=KFold(5), return_train_score=True, scoring=scoring, refit = 'F1')\n",
        "grid_svc.fit(X_resampled_Mn, y_resampled_Mn)\n",
        "grid_svc.score(X_test_Mn[features_selected], class_test_Mn)"
      ],
      "execution_count": null,
      "outputs": [
        {
          "output_type": "execute_result",
          "data": {
            "text/plain": [
              "0.7540983606557378"
            ]
          },
          "metadata": {
            "tags": []
          },
          "execution_count": 55
        }
      ]
    },
    {
      "cell_type": "code",
      "metadata": {
        "id": "45MJteX0rdzq",
        "colab": {
          "base_uri": "https://localhost:8080/"
        },
        "outputId": "f364bc5d-5a55-4956-efe6-a437c82f2805"
      },
      "source": [
        "class_test_predicted_Mn = grid_svc.predict(X_test_Mn[features_selected])\n",
        "print(accuracy_score(class_test_Mn, class_test_predicted_Mn))\n",
        "print(precision_score(class_test_Mn, class_test_predicted_Mn))\n",
        "print(recall_score(class_test_Mn, class_test_predicted_Mn))\n",
        "print(f1_score(class_test_Mn, class_test_predicted_Mn))"
      ],
      "execution_count": null,
      "outputs": [
        {
          "output_type": "stream",
          "text": [
            "0.8897058823529411\n",
            "0.71875\n",
            "0.7931034482758621\n",
            "0.7540983606557378\n"
          ],
          "name": "stdout"
        }
      ]
    },
    {
      "cell_type": "code",
      "metadata": {
        "id": "F3uhVteSj4-r",
        "colab": {
          "base_uri": "https://localhost:8080/"
        },
        "outputId": "5e275145-8fe7-452c-c952-932f7e25ee65"
      },
      "source": [
        "grid_search_clf.fit(X_resampled_Mn, y_resampled_Mn)\n",
        "grid_search_clf.score(X_test_Mn[features_selected], class_test_Mn)"
      ],
      "execution_count": null,
      "outputs": [
        {
          "output_type": "execute_result",
          "data": {
            "text/plain": [
              "0.71875"
            ]
          },
          "metadata": {
            "tags": []
          },
          "execution_count": 49
        }
      ]
    },
    {
      "cell_type": "code",
      "metadata": {
        "id": "LRNiplGwj5Hp",
        "colab": {
          "base_uri": "https://localhost:8080/"
        },
        "outputId": "5ccfc151-7a2f-40c7-8164-3b8a71daf712"
      },
      "source": [
        "class_test_predicted_Mn = grid_search_clf.predict(X_test_Mn[features_selected])\n",
        "print(accuracy_score(class_test_Mn, class_test_predicted_Mn))\n",
        "print(precision_score(class_test_Mn, class_test_predicted_Mn))\n",
        "print(recall_score(class_test_Mn, class_test_predicted_Mn))\n",
        "print(f1_score(class_test_Mn, class_test_predicted_Mn))"
      ],
      "execution_count": null,
      "outputs": [
        {
          "output_type": "stream",
          "text": [
            "0.8676470588235294\n",
            "0.6571428571428571\n",
            "0.7931034482758621\n",
            "0.71875\n"
          ],
          "name": "stdout"
        }
      ]
    }
  ]
}